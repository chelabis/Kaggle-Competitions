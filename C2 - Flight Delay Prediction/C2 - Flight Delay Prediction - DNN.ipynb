{
 "cells": [
  {
   "cell_type": "markdown",
   "id": "02711e78",
   "metadata": {},
   "source": [
    "# C2: Flight Delay Prediction (over 15 minutes) - Score metric is ROC AUC\n",
    "# DNN"
   ]
  },
  {
   "cell_type": "code",
   "execution_count": 65,
   "id": "3f6b1666",
   "metadata": {},
   "outputs": [],
   "source": [
    "import numpy as np\n",
    "import pandas as pd\n",
    "import matplotlib.pyplot as plt\n",
    "\n",
    "from sklearn.model_selection import train_test_split\n",
    "from sklearn.preprocessing import MinMaxScaler, StandardScaler\n",
    "\n",
    "import tensorflow as tf\n",
    "from tensorflow import keras\n",
    "from tensorflow.keras.optimizers import Adam"
   ]
  },
  {
   "cell_type": "markdown",
   "id": "f2e3b656",
   "metadata": {},
   "source": [
    "## Import Data"
   ]
  },
  {
   "cell_type": "code",
   "execution_count": 38,
   "id": "617f45cb",
   "metadata": {},
   "outputs": [
    {
     "data": {
      "text/html": [
       "<div>\n",
       "<style scoped>\n",
       "    .dataframe tbody tr th:only-of-type {\n",
       "        vertical-align: middle;\n",
       "    }\n",
       "\n",
       "    .dataframe tbody tr th {\n",
       "        vertical-align: top;\n",
       "    }\n",
       "\n",
       "    .dataframe thead th {\n",
       "        text-align: right;\n",
       "    }\n",
       "</style>\n",
       "<table border=\"1\" class=\"dataframe\">\n",
       "  <thead>\n",
       "    <tr style=\"text-align: right;\">\n",
       "      <th></th>\n",
       "      <th>Month</th>\n",
       "      <th>DayofMonth</th>\n",
       "      <th>DayOfWeek</th>\n",
       "      <th>DepTime</th>\n",
       "      <th>UniqueCarrier</th>\n",
       "      <th>Origin</th>\n",
       "      <th>Dest</th>\n",
       "      <th>Distance</th>\n",
       "      <th>dep_delayed_15min</th>\n",
       "    </tr>\n",
       "  </thead>\n",
       "  <tbody>\n",
       "    <tr>\n",
       "      <th>0</th>\n",
       "      <td>c-8</td>\n",
       "      <td>c-21</td>\n",
       "      <td>c-7</td>\n",
       "      <td>1934</td>\n",
       "      <td>AA</td>\n",
       "      <td>ATL</td>\n",
       "      <td>DFW</td>\n",
       "      <td>732</td>\n",
       "      <td>N</td>\n",
       "    </tr>\n",
       "    <tr>\n",
       "      <th>1</th>\n",
       "      <td>c-4</td>\n",
       "      <td>c-20</td>\n",
       "      <td>c-3</td>\n",
       "      <td>1548</td>\n",
       "      <td>US</td>\n",
       "      <td>PIT</td>\n",
       "      <td>MCO</td>\n",
       "      <td>834</td>\n",
       "      <td>N</td>\n",
       "    </tr>\n",
       "    <tr>\n",
       "      <th>2</th>\n",
       "      <td>c-9</td>\n",
       "      <td>c-2</td>\n",
       "      <td>c-5</td>\n",
       "      <td>1422</td>\n",
       "      <td>XE</td>\n",
       "      <td>RDU</td>\n",
       "      <td>CLE</td>\n",
       "      <td>416</td>\n",
       "      <td>N</td>\n",
       "    </tr>\n",
       "    <tr>\n",
       "      <th>3</th>\n",
       "      <td>c-11</td>\n",
       "      <td>c-25</td>\n",
       "      <td>c-6</td>\n",
       "      <td>1015</td>\n",
       "      <td>OO</td>\n",
       "      <td>DEN</td>\n",
       "      <td>MEM</td>\n",
       "      <td>872</td>\n",
       "      <td>N</td>\n",
       "    </tr>\n",
       "    <tr>\n",
       "      <th>4</th>\n",
       "      <td>c-10</td>\n",
       "      <td>c-7</td>\n",
       "      <td>c-6</td>\n",
       "      <td>1828</td>\n",
       "      <td>WN</td>\n",
       "      <td>MDW</td>\n",
       "      <td>OMA</td>\n",
       "      <td>423</td>\n",
       "      <td>Y</td>\n",
       "    </tr>\n",
       "  </tbody>\n",
       "</table>\n",
       "</div>"
      ],
      "text/plain": [
       "  Month DayofMonth DayOfWeek  DepTime UniqueCarrier Origin Dest  Distance  \\\n",
       "0   c-8       c-21       c-7     1934            AA    ATL  DFW       732   \n",
       "1   c-4       c-20       c-3     1548            US    PIT  MCO       834   \n",
       "2   c-9        c-2       c-5     1422            XE    RDU  CLE       416   \n",
       "3  c-11       c-25       c-6     1015            OO    DEN  MEM       872   \n",
       "4  c-10        c-7       c-6     1828            WN    MDW  OMA       423   \n",
       "\n",
       "  dep_delayed_15min  \n",
       "0                 N  \n",
       "1                 N  \n",
       "2                 N  \n",
       "3                 N  \n",
       "4                 Y  "
      ]
     },
     "execution_count": 38,
     "metadata": {},
     "output_type": "execute_result"
    }
   ],
   "source": [
    "df_train = pd.read_csv('flight_delays_train.csv')\n",
    "df_test = pd.read_csv('flight_delays_test.csv')\n",
    "df_train.head()"
   ]
  },
  {
   "cell_type": "markdown",
   "id": "e2bc8a6d",
   "metadata": {},
   "source": [
    "## Quantify Data"
   ]
  },
  {
   "cell_type": "code",
   "execution_count": 39,
   "id": "5d0f035c",
   "metadata": {},
   "outputs": [],
   "source": [
    "# Train Set\n",
    "df_train.Month = df_train.Month.str.split('-', expand=True)[1].astype(int)\n",
    "df_train.DayofMonth = df_train.DayofMonth.str.split('-', expand=True)[1].astype(int)\n",
    "df_train.DayOfWeek = df_train.DayOfWeek.str.split('-', expand=True)[1].astype(int)\n",
    "\n",
    "# Test Set\n",
    "df_test.Month = df_test.Month.str.split('-', expand=True)[1].astype(int)\n",
    "df_test.DayofMonth = df_test.DayofMonth.str.split('-', expand=True)[1].astype(int)\n",
    "df_test.DayOfWeek = df_test.DayOfWeek.str.split('-', expand=True)[1].astype(int)"
   ]
  },
  {
   "cell_type": "code",
   "execution_count": 40,
   "id": "976a69fd",
   "metadata": {},
   "outputs": [],
   "source": [
    "# Function to replace string variables with numbers based on counts\n",
    "def replace_with_counts(df, columns):\n",
    "    for column in columns:\n",
    "        counts = df[column].value_counts().rank(method='dense', ascending=False).astype(float)\n",
    "        df[column] = df[column].map(counts)\n",
    "    return df\n",
    "\n",
    "# Apply the transformation to the specified columns\n",
    "columns_to_transform = ['UniqueCarrier', 'Origin', 'Dest']\n",
    "df_train = replace_with_counts(df_train, columns_to_transform)\n",
    "df_test = replace_with_counts(df_test, columns_to_transform)"
   ]
  },
  {
   "cell_type": "code",
   "execution_count": 41,
   "id": "d8963f81",
   "metadata": {},
   "outputs": [],
   "source": [
    "df_train['dep_delayed_15min'] = df_train['dep_delayed_15min'].apply(lambda x: 1 if x == 'Y' else 0).astype(float)"
   ]
  },
  {
   "cell_type": "markdown",
   "id": "599c6134",
   "metadata": {},
   "source": [
    "## Split the Data"
   ]
  },
  {
   "cell_type": "code",
   "execution_count": 42,
   "id": "5dcb1f6a",
   "metadata": {},
   "outputs": [],
   "source": [
    "X = df_train.drop('dep_delayed_15min', axis=1)\n",
    "y = df_train.dep_delayed_15min"
   ]
  },
  {
   "cell_type": "code",
   "execution_count": 43,
   "id": "97719b59",
   "metadata": {},
   "outputs": [],
   "source": [
    "X_train, X_valid, y_train, y_valid = train_test_split(X, y, test_size=0.2, random_state=0)\n",
    "X_test = df_test"
   ]
  },
  {
   "cell_type": "markdown",
   "id": "8c7c8e19",
   "metadata": {},
   "source": [
    "## Normalization"
   ]
  },
  {
   "cell_type": "code",
   "execution_count": 153,
   "id": "b13e331a",
   "metadata": {},
   "outputs": [],
   "source": [
    "# PUT THE SCALER\n",
    "scaler = MinMaxScaler()\n",
    "\n",
    "X1 = scaler.fit_transform(X)\n",
    "\n",
    "#scaler2 = StandardScaler()\n",
    "X_train = scaler.fit_transform(X_train)\n",
    "X_valid = scaler.transform(X_valid)\n",
    "\n",
    "X_test = scaler.transform(X_test)"
   ]
  },
  {
   "cell_type": "markdown",
   "id": "5e7af198",
   "metadata": {},
   "source": [
    "## Model Creation"
   ]
  },
  {
   "cell_type": "code",
   "execution_count": 194,
   "id": "6836cfce",
   "metadata": {},
   "outputs": [
    {
     "name": "stderr",
     "output_type": "stream",
     "text": [
      "C:\\Users\\sajad\\AppData\\Roaming\\Python\\Python311\\site-packages\\keras\\src\\layers\\core\\dense.py:87: UserWarning: Do not pass an `input_shape`/`input_dim` argument to a layer. When using Sequential models, prefer using an `Input(shape)` object as the first layer in the model instead.\n",
      "  super().__init__(activity_regularizer=activity_regularizer, **kwargs)\n"
     ]
    }
   ],
   "source": [
    "model = tf.keras.Sequential([\n",
    "    tf.keras.layers.Dense(16, activation='relu', input_shape=[8]),\n",
    "    \n",
    "    tf.keras.layers.Dense(1, activation='sigmoid')\n",
    "])"
   ]
  },
  {
   "cell_type": "code",
   "execution_count": 195,
   "id": "1a9c0e67",
   "metadata": {},
   "outputs": [],
   "source": [
    "model.compile(optimizer='adam', loss='binary_crossentropy', metrics=[tf.keras.metrics.AUC()])"
   ]
  },
  {
   "cell_type": "code",
   "execution_count": 196,
   "id": "8aa00415",
   "metadata": {},
   "outputs": [
    {
     "name": "stdout",
     "output_type": "stream",
     "text": [
      "Epoch 1/3\n",
      "\u001b[1m3125/3125\u001b[0m \u001b[32m━━━━━━━━━━━━━━━━━━━━\u001b[0m\u001b[37m\u001b[0m \u001b[1m8s\u001b[0m 2ms/step - auc_46: 0.5533 - loss: 0.4969\n",
      "Epoch 2/3\n",
      "\u001b[1m3125/3125\u001b[0m \u001b[32m━━━━━━━━━━━━━━━━━━━━\u001b[0m\u001b[37m\u001b[0m \u001b[1m6s\u001b[0m 2ms/step - auc_46: 0.6803 - loss: 0.4571\n",
      "Epoch 3/3\n",
      "\u001b[1m3125/3125\u001b[0m \u001b[32m━━━━━━━━━━━━━━━━━━━━\u001b[0m\u001b[37m\u001b[0m \u001b[1m8s\u001b[0m 3ms/step - auc_46: 0.6821 - loss: 0.4564\n"
     ]
    }
   ],
   "source": [
    "hist = model.fit(X1, y, epochs=3)"
   ]
  },
  {
   "cell_type": "markdown",
   "id": "30ed5563",
   "metadata": {},
   "source": [
    "## Visualization"
   ]
  },
  {
   "cell_type": "code",
   "execution_count": 173,
   "id": "10a7e973",
   "metadata": {},
   "outputs": [
    {
     "data": {
      "image/png": "[encoded data removed]",
      "text/plain": [
       "<Figure size 640x480 with 1 Axes>"
      ]
     },
     "metadata": {},
     "output_type": "display_data"
    }
   ],
   "source": [
    "plt.figure()\n",
    "plt.plot(hist.history['auc_40'])\n",
    "plt.plot(hist.history['loss'])\n",
    "plt.xlabel('Epochs')\n",
    "plt.ylabel('Value')\n",
    "plt.legend(['AUC', 'Binary Crossentropy'])\n",
    "plt.show()"
   ]
  },
  {
   "cell_type": "markdown",
   "id": "e7273611",
   "metadata": {},
   "source": [
    "## Make Predictions"
   ]
  },
  {
   "cell_type": "code",
   "execution_count": 174,
   "id": "fb542f41",
   "metadata": {},
   "outputs": [
    {
     "name": "stdout",
     "output_type": "stream",
     "text": [
      "\u001b[1m3125/3125\u001b[0m \u001b[32m━━━━━━━━━━━━━━━━━━━━\u001b[0m\u001b[37m\u001b[0m \u001b[1m6s\u001b[0m 2ms/step\n"
     ]
    }
   ],
   "source": [
    "predictions = model.predict(X_test)\n",
    "predictions = predictions.reshape(100000,)"
   ]
  },
  {
   "cell_type": "code",
   "execution_count": 175,
   "id": "0ba805ea",
   "metadata": {},
   "outputs": [
    {
     "data": {
      "text/plain": [
       "array([0.03987135, 0.04322598, 0.03321957, 0.29754585, 0.19235872,\n",
       "       0.0729089 , 0.05730508, 0.14957386, 0.13909769, 0.25861293,\n",
       "       0.22422153, 0.1417311 , 0.08546493, 0.17598958, 0.08683538,\n",
       "       0.25997353, 0.122371  , 0.26107377, 0.32256016, 0.01914677],\n",
       "      dtype=float32)"
      ]
     },
     "execution_count": 175,
     "metadata": {},
     "output_type": "execute_result"
    }
   ],
   "source": [
    "predictions[:20]"
   ]
  },
  {
   "cell_type": "code",
   "execution_count": 176,
   "id": "0c3ca3bd",
   "metadata": {},
   "outputs": [
    {
     "name": "stdout",
     "output_type": "stream",
     "text": [
      "A submission file has been made\n"
     ]
    }
   ],
   "source": [
    "def make_submission(prediction, sub_name):\n",
    "  my_submission = pd.DataFrame({'id':pd.read_csv('sample_submission.csv').id,'dep_delayed_15min':prediction})\n",
    "  my_submission.to_csv('{}.csv'.format(sub_name),index=False)\n",
    "  print('A submission file has been made')\n",
    "\n",
    "make_submission(predictions,'submission(v02)')"
   ]
  },
  {
   "cell_type": "code",
   "execution_count": 178,
   "id": "dfebfb8d",
   "metadata": {},
   "outputs": [
    {
     "data": {
      "text/plain": [
       "Month                0.016998\n",
       "DayofMonth           0.025842\n",
       "DayOfWeek            0.010439\n",
       "DepTime              0.243819\n",
       "UniqueCarrier       -0.004829\n",
       "Origin              -0.041927\n",
       "Dest                 0.017317\n",
       "Distance            -0.002734\n",
       "dep_delayed_15min    1.000000\n",
       "Name: dep_delayed_15min, dtype: float64"
      ]
     },
     "execution_count": 178,
     "metadata": {},
     "output_type": "execute_result"
    }
   ],
   "source": [
    "df_train.corr()['dep_delayed_15min']"
   ]
  },
  {
   "cell_type": "code",
   "execution_count": null,
   "id": "7df28d5d",
   "metadata": {},
   "outputs": [],
   "source": []
  }
 ],
 "metadata": {
  "kernelspec": {
   "display_name": "Python 3 (ipykernel)",
   "language": "python",
   "name": "python3"
  },
  "language_info": {
   "codemirror_mode": {
    "name": "ipython",
    "version": 3
   },
   "file_extension": ".py",
   "mimetype": "text/x-python",
   "name": "python",
   "nbconvert_exporter": "python",
   "pygments_lexer": "ipython3",
   "version": "3.11.5"
  }
 },
 "nbformat": 4,
 "nbformat_minor": 5
}

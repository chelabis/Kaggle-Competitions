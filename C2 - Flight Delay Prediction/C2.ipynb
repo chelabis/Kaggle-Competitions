{
 "cells": [
  {
   "cell_type": "markdown",
   "id": "543d7c9a",
   "metadata": {},
   "source": [
    "# C2"
   ]
  },
  {
   "cell_type": "code",
   "execution_count": 3,
   "id": "4fab1863",
   "metadata": {},
   "outputs": [],
   "source": [
    "import numpy as np\n",
    "import pandas as pd\n",
    "import matplotlib.pyplot as plt\n",
    "import seaborn as sns\n",
    "\n",
    "from sklearn.preprocessing import normalize\n",
    "from sklearn.model_selection import train_test_split, GridSearchCV\n",
    "\n",
    "from xgboost import XGBClassifier\n",
    "from catboost import CatBoostClassifier\n",
    "\n",
    "from sklearn.metrics import accuracy_score, roc_auc_score\n",
    "from sklearn.tree import DecisionTreeClassifier\n",
    "from sklearn.ensemble import RandomForestClassifier, BaggingClassifier, AdaBoostClassifier"
   ]
  },
  {
   "cell_type": "code",
   "execution_count": 4,
   "id": "c1663b4c",
   "metadata": {},
   "outputs": [],
   "source": [
    "train = pd.read_csv('flight_delays_train.csv')\n",
    "test = pd.read_csv('flight_delays_test.csv')\n",
    "all_data = pd.concat([train, test], ignore_index=True)"
   ]
  },
  {
   "cell_type": "code",
   "execution_count": 5,
   "id": "218f3cdb",
   "metadata": {},
   "outputs": [],
   "source": [
    "# change target name to make it easier\n",
    "train = train.rename(columns={'dep_delayed_15min':'delayed'})\n",
    "all_data = all_data.rename(columns={'dep_delayed_15min':'delayed'})"
   ]
  },
  {
   "cell_type": "code",
   "execution_count": 6,
   "id": "c2e52e2b",
   "metadata": {},
   "outputs": [],
   "source": [
    "# change target to numerical N-->0 & Y-->1\n",
    "train.loc[(train.delayed == 'N'), 'delayed'] = 0\n",
    "train.loc[(train.delayed == 'Y'), 'delayed'] = 1\n",
    "all_data.loc[(all_data.delayed == 'N'), 'delayed'] = 0\n",
    "all_data.loc[(all_data.delayed == 'Y'), 'delayed'] = 1"
   ]
  },
  {
   "cell_type": "code",
   "execution_count": 7,
   "id": "15843fb8",
   "metadata": {},
   "outputs": [],
   "source": [
    "train.Month = train.Month.str.slice(start=2).astype(int)\n",
    "all_data.Month = all_data.Month.str.slice(start=2).astype(int)\n",
    "\n",
    "train.DayofMonth = train.DayofMonth.str.slice(start=2).astype(int)\n",
    "all_data.DayofMonth = all_data.DayofMonth.str.slice(start=2).astype(int)\n",
    "\n",
    "train.DayOfWeek = train.DayOfWeek.str.slice(start=2).astype(int)\n",
    "all_data.DayOfWeek = all_data.DayOfWeek.str.slice(start=2).astype(int)"
   ]
  },
  {
   "cell_type": "markdown",
   "id": "101f43e4",
   "metadata": {},
   "source": [
    "## Feature Engineering"
   ]
  },
  {
   "cell_type": "code",
   "execution_count": 8,
   "id": "861af9da",
   "metadata": {},
   "outputs": [],
   "source": [
    "all_data['Route'] = all_data['Origin'] + all_data['Dest']\n",
    "all_data['UniqueCarrier_Origin'] = all_data['UniqueCarrier'] + \"_\" + all_data['Origin']\n",
    "all_data['UniqueCarrier_Dest'] = all_data['UniqueCarrier'] + \"_\" + all_data['Dest']\n",
    "all_data['is_weekend'] = (all_data['DayOfWeek'] == 6) | (all_data['DayOfWeek'] == 7)\n",
    "\n",
    "# Hour and minute\n",
    "all_data['hour'] = all_data['DepTime'] // 100\n",
    "all_data.loc[all_data['hour'] == 24, 'hour'] = 0\n",
    "all_data.loc[all_data['hour'] == 25, 'hour'] = 1\n",
    "all_data['minute'] = all_data['DepTime'] % 100\n",
    "\n",
    "# give more importance to hour variable\n",
    "all_data['hour_sq'] = all_data['hour'] ** 2\n",
    "all_data['hour_sq2'] = all_data['hour'] ** 4"
   ]
  },
  {
   "cell_type": "markdown",
   "id": "0c899aa9",
   "metadata": {},
   "source": [
    "## Binning\n",
    "### Season"
   ]
  },
  {
   "cell_type": "code",
   "execution_count": 9,
   "id": "6e91073f",
   "metadata": {},
   "outputs": [],
   "source": [
    "all_data['summer'] = (all_data['Month'].isin([6, 7, 8]))\n",
    "all_data['autumn'] = (all_data['Month'].isin([9, 10, 11]))\n",
    "all_data['winter'] = (all_data['Month'].isin([12, 1, 2]))\n",
    "all_data['spring'] = (all_data['Month'].isin([3, 4, 5]))"
   ]
  },
  {
   "cell_type": "markdown",
   "id": "f5fc9b70",
   "metadata": {},
   "source": [
    "### Departure Time"
   ]
  },
  {
   "cell_type": "code",
   "execution_count": 10,
   "id": "99c92d3e",
   "metadata": {},
   "outputs": [],
   "source": [
    "all_data['DayTime'] = 0\n",
    "all_data.loc[all_data.DepTime <= 600 , 'DepTime_bin'] = 'Night'\n",
    "all_data.loc[(all_data.DepTime > 600) & (all_data.DepTime <= 1200), 'DepTime_bin'] = 'Morning'\n",
    "all_data.loc[(all_data.DepTime > 1200) & (all_data.DepTime <= 1800), 'DepTime_bin'] = 'Afternoon'\n",
    "all_data.loc[(all_data.DepTime > 1800) & (all_data.DepTime <= 2600), 'DepTime_bin'] = 'Evening'\n",
    "\n",
    "all_data['DepTime_bin'] = 0\n",
    "all_data.loc[all_data.DepTime <= 600 , 'DepTime_bin'] = 'vem'\n",
    "all_data.loc[(all_data.DepTime > 600) & (all_data.DepTime <= 900), 'DepTime_bin'] = 'm'\n",
    "all_data.loc[(all_data.DepTime > 900) & (all_data.DepTime <= 1200), 'DepTime_bin'] = 'mm'\n",
    "all_data.loc[(all_data.DepTime > 1200) & (all_data.DepTime <= 1500), 'DepTime_bin'] = 'maf'\n",
    "all_data.loc[(all_data.DepTime > 1500) & (all_data.DepTime <= 1800), 'DepTime_bin'] = 'af'\n",
    "all_data.loc[(all_data.DepTime > 1800) & (all_data.DepTime <= 2100), 'DepTime_bin'] = 'n'\n",
    "all_data.loc[(all_data.DepTime > 2100) & (all_data.DepTime <= 2400), 'DepTime_bin'] = 'nn'\n",
    "all_data.loc[all_data.DepTime > 2400, 'DepTime_bin'] = 'lm'\n",
    "all_data = all_data.drop(['DepTime'], axis=1)"
   ]
  },
  {
   "cell_type": "markdown",
   "id": "5f3279bd",
   "metadata": {},
   "source": [
    "### Distance"
   ]
  },
  {
   "cell_type": "code",
   "execution_count": 11,
   "id": "d2b2fce5",
   "metadata": {},
   "outputs": [],
   "source": [
    "all_data['Dist_bin'] = 0\n",
    "all_data.loc[all_data.Distance <= 500 , 'Dist_bin'] = 'vshort'\n",
    "all_data.loc[(all_data.Distance > 500) & (all_data.Distance <= 1000), 'Dist_bin'] = 'short'\n",
    "all_data.loc[(all_data.Distance > 1000) & (all_data.Distance <= 1500), 'Dist_bin'] = 'mid'\n",
    "all_data.loc[(all_data.Distance > 1500) & (all_data.Distance <= 2000), 'Dist_bin'] = 'midlong'\n",
    "all_data.loc[(all_data.Distance > 2000) & (all_data.Distance <= 2500), 'Dist_bin'] = 'long'\n",
    "all_data.loc[all_data.Distance > 2500, 'Dist_bin'] = 'vlong'\n",
    "all_data = all_data.drop(['Distance'], axis=1)"
   ]
  },
  {
   "cell_type": "markdown",
   "id": "40d1e7a7",
   "metadata": {},
   "source": [
    "## Predictive Modeling"
   ]
  },
  {
   "cell_type": "code",
   "execution_count": 12,
   "id": "41410111",
   "metadata": {},
   "outputs": [],
   "source": [
    "new_train = all_data.iloc[:100000]\n",
    "new_test = all_data.iloc[100000:]\n",
    "\n",
    "feature_columns = list(new_train.columns)\n",
    "feature_columns.remove('delayed')\n",
    "\n",
    "X = new_train[feature_columns]\n",
    "y = new_train.delayed\n",
    "\n",
    "#split data\n",
    "X_train, X_val, y_train, y_val = train_test_split(X, y, test_size= 0.2, random_state=1)"
   ]
  },
  {
   "cell_type": "code",
   "execution_count": 13,
   "id": "fc858ee0",
   "metadata": {},
   "outputs": [
    {
     "data": {
      "text/html": [
       "<div>\n",
       "<style scoped>\n",
       "    .dataframe tbody tr th:only-of-type {\n",
       "        vertical-align: middle;\n",
       "    }\n",
       "\n",
       "    .dataframe tbody tr th {\n",
       "        vertical-align: top;\n",
       "    }\n",
       "\n",
       "    .dataframe thead th {\n",
       "        text-align: right;\n",
       "    }\n",
       "</style>\n",
       "<table border=\"1\" class=\"dataframe\">\n",
       "  <thead>\n",
       "    <tr style=\"text-align: right;\">\n",
       "      <th></th>\n",
       "      <th>Month</th>\n",
       "      <th>DayofMonth</th>\n",
       "      <th>DayOfWeek</th>\n",
       "      <th>UniqueCarrier</th>\n",
       "      <th>Origin</th>\n",
       "      <th>Dest</th>\n",
       "      <th>delayed</th>\n",
       "      <th>Route</th>\n",
       "      <th>UniqueCarrier_Origin</th>\n",
       "      <th>UniqueCarrier_Dest</th>\n",
       "      <th>...</th>\n",
       "      <th>minute</th>\n",
       "      <th>hour_sq</th>\n",
       "      <th>hour_sq2</th>\n",
       "      <th>summer</th>\n",
       "      <th>autumn</th>\n",
       "      <th>winter</th>\n",
       "      <th>spring</th>\n",
       "      <th>DayTime</th>\n",
       "      <th>DepTime_bin</th>\n",
       "      <th>Dist_bin</th>\n",
       "    </tr>\n",
       "  </thead>\n",
       "  <tbody>\n",
       "    <tr>\n",
       "      <th>0</th>\n",
       "      <td>8</td>\n",
       "      <td>21</td>\n",
       "      <td>7</td>\n",
       "      <td>AA</td>\n",
       "      <td>ATL</td>\n",
       "      <td>DFW</td>\n",
       "      <td>0</td>\n",
       "      <td>ATLDFW</td>\n",
       "      <td>AA_ATL</td>\n",
       "      <td>AA_DFW</td>\n",
       "      <td>...</td>\n",
       "      <td>34</td>\n",
       "      <td>361</td>\n",
       "      <td>130321</td>\n",
       "      <td>True</td>\n",
       "      <td>False</td>\n",
       "      <td>False</td>\n",
       "      <td>False</td>\n",
       "      <td>0</td>\n",
       "      <td>n</td>\n",
       "      <td>short</td>\n",
       "    </tr>\n",
       "    <tr>\n",
       "      <th>1</th>\n",
       "      <td>4</td>\n",
       "      <td>20</td>\n",
       "      <td>3</td>\n",
       "      <td>US</td>\n",
       "      <td>PIT</td>\n",
       "      <td>MCO</td>\n",
       "      <td>0</td>\n",
       "      <td>PITMCO</td>\n",
       "      <td>US_PIT</td>\n",
       "      <td>US_MCO</td>\n",
       "      <td>...</td>\n",
       "      <td>48</td>\n",
       "      <td>225</td>\n",
       "      <td>50625</td>\n",
       "      <td>False</td>\n",
       "      <td>False</td>\n",
       "      <td>False</td>\n",
       "      <td>True</td>\n",
       "      <td>0</td>\n",
       "      <td>af</td>\n",
       "      <td>short</td>\n",
       "    </tr>\n",
       "    <tr>\n",
       "      <th>2</th>\n",
       "      <td>9</td>\n",
       "      <td>2</td>\n",
       "      <td>5</td>\n",
       "      <td>XE</td>\n",
       "      <td>RDU</td>\n",
       "      <td>CLE</td>\n",
       "      <td>0</td>\n",
       "      <td>RDUCLE</td>\n",
       "      <td>XE_RDU</td>\n",
       "      <td>XE_CLE</td>\n",
       "      <td>...</td>\n",
       "      <td>22</td>\n",
       "      <td>196</td>\n",
       "      <td>38416</td>\n",
       "      <td>False</td>\n",
       "      <td>True</td>\n",
       "      <td>False</td>\n",
       "      <td>False</td>\n",
       "      <td>0</td>\n",
       "      <td>maf</td>\n",
       "      <td>vshort</td>\n",
       "    </tr>\n",
       "    <tr>\n",
       "      <th>3</th>\n",
       "      <td>11</td>\n",
       "      <td>25</td>\n",
       "      <td>6</td>\n",
       "      <td>OO</td>\n",
       "      <td>DEN</td>\n",
       "      <td>MEM</td>\n",
       "      <td>0</td>\n",
       "      <td>DENMEM</td>\n",
       "      <td>OO_DEN</td>\n",
       "      <td>OO_MEM</td>\n",
       "      <td>...</td>\n",
       "      <td>15</td>\n",
       "      <td>100</td>\n",
       "      <td>10000</td>\n",
       "      <td>False</td>\n",
       "      <td>True</td>\n",
       "      <td>False</td>\n",
       "      <td>False</td>\n",
       "      <td>0</td>\n",
       "      <td>mm</td>\n",
       "      <td>short</td>\n",
       "    </tr>\n",
       "    <tr>\n",
       "      <th>4</th>\n",
       "      <td>10</td>\n",
       "      <td>7</td>\n",
       "      <td>6</td>\n",
       "      <td>WN</td>\n",
       "      <td>MDW</td>\n",
       "      <td>OMA</td>\n",
       "      <td>1</td>\n",
       "      <td>MDWOMA</td>\n",
       "      <td>WN_MDW</td>\n",
       "      <td>WN_OMA</td>\n",
       "      <td>...</td>\n",
       "      <td>28</td>\n",
       "      <td>324</td>\n",
       "      <td>104976</td>\n",
       "      <td>False</td>\n",
       "      <td>True</td>\n",
       "      <td>False</td>\n",
       "      <td>False</td>\n",
       "      <td>0</td>\n",
       "      <td>n</td>\n",
       "      <td>vshort</td>\n",
       "    </tr>\n",
       "  </tbody>\n",
       "</table>\n",
       "<p>5 rows × 22 columns</p>\n",
       "</div>"
      ],
      "text/plain": [
       "   Month  DayofMonth  DayOfWeek UniqueCarrier Origin Dest delayed   Route  \\\n",
       "0      8          21          7            AA    ATL  DFW       0  ATLDFW   \n",
       "1      4          20          3            US    PIT  MCO       0  PITMCO   \n",
       "2      9           2          5            XE    RDU  CLE       0  RDUCLE   \n",
       "3     11          25          6            OO    DEN  MEM       0  DENMEM   \n",
       "4     10           7          6            WN    MDW  OMA       1  MDWOMA   \n",
       "\n",
       "  UniqueCarrier_Origin UniqueCarrier_Dest  ...  minute  hour_sq  hour_sq2  \\\n",
       "0               AA_ATL             AA_DFW  ...      34      361    130321   \n",
       "1               US_PIT             US_MCO  ...      48      225     50625   \n",
       "2               XE_RDU             XE_CLE  ...      22      196     38416   \n",
       "3               OO_DEN             OO_MEM  ...      15      100     10000   \n",
       "4               WN_MDW             WN_OMA  ...      28      324    104976   \n",
       "\n",
       "   summer  autumn  winter  spring  DayTime  DepTime_bin  Dist_bin  \n",
       "0    True   False   False   False        0            n     short  \n",
       "1   False   False   False    True        0           af     short  \n",
       "2   False    True   False   False        0          maf    vshort  \n",
       "3   False    True   False   False        0           mm     short  \n",
       "4   False    True   False   False        0            n    vshort  \n",
       "\n",
       "[5 rows x 22 columns]"
      ]
     },
     "execution_count": 13,
     "metadata": {},
     "output_type": "execute_result"
    }
   ],
   "source": [
    "all_data.head()"
   ]
  },
  {
   "cell_type": "code",
   "execution_count": 19,
   "id": "bd835441",
   "metadata": {},
   "outputs": [
    {
     "name": "stdout",
     "output_type": "stream",
     "text": [
      "<class 'pandas.core.frame.DataFrame'>\n",
      "Index: 80000 entries, 78689 to 98539\n",
      "Data columns (total 21 columns):\n",
      " #   Column                Non-Null Count  Dtype \n",
      "---  ------                --------------  ----- \n",
      " 0   Month                 80000 non-null  int32 \n",
      " 1   DayofMonth            80000 non-null  int32 \n",
      " 2   DayOfWeek             80000 non-null  int32 \n",
      " 3   UniqueCarrier         80000 non-null  object\n",
      " 4   Origin                80000 non-null  object\n",
      " 5   Dest                  80000 non-null  object\n",
      " 6   Route                 80000 non-null  object\n",
      " 7   UniqueCarrier_Origin  80000 non-null  object\n",
      " 8   UniqueCarrier_Dest    80000 non-null  object\n",
      " 9   is_weekend            80000 non-null  bool  \n",
      " 10  hour                  80000 non-null  int64 \n",
      " 11  minute                80000 non-null  int64 \n",
      " 12  hour_sq               80000 non-null  int64 \n",
      " 13  hour_sq2              80000 non-null  int64 \n",
      " 14  summer                80000 non-null  bool  \n",
      " 15  autumn                80000 non-null  bool  \n",
      " 16  winter                80000 non-null  bool  \n",
      " 17  spring                80000 non-null  bool  \n",
      " 18  DayTime               80000 non-null  int64 \n",
      " 19  DepTime_bin           80000 non-null  object\n",
      " 20  Dist_bin              80000 non-null  object\n",
      "dtypes: bool(5), int32(3), int64(5), object(8)\n",
      "memory usage: 9.8+ MB\n"
     ]
    }
   ],
   "source": [
    "X_train.info()"
   ]
  },
  {
   "cell_type": "markdown",
   "id": "5673d5b5",
   "metadata": {},
   "source": [
    "### Catboost"
   ]
  },
  {
   "cell_type": "code",
   "execution_count": 21,
   "id": "b69aca2c",
   "metadata": {},
   "outputs": [
    {
     "name": "stdout",
     "output_type": "stream",
     "text": [
      "Accuracy Catboost:  0.7775538008505711\n"
     ]
    }
   ],
   "source": [
    "model_ctb = CatBoostClassifier(iterations=3000, loss_function='Logloss',\n",
    "                               l2_leaf_reg=0.8, od_type='Iter',\n",
    "                               random_seed=17, silent=True)\n",
    "#model_ctb = GridSearchCV(model_ctb, {'learning_rate':[0.5, 0.1], 'n_estimators':[500, 1000]})\n",
    "model_ctb.fit(X_train, y_train.astype(int), cat_features=[3, 4, 5, 6, 7, 8, 9, 14, 15, 16, 17, 19, 20])\n",
    "predictions = model_ctb.predict_proba(X_val)[:, 1]\n",
    "accuracy = roc_auc_score(y_val.astype(int), predictions)\n",
    "print('Accuracy Catboost: ', accuracy)"
   ]
  },
  {
   "cell_type": "markdown",
   "id": "788ac700",
   "metadata": {},
   "source": [
    "## Results"
   ]
  },
  {
   "cell_type": "code",
   "execution_count": 22,
   "id": "85b62527",
   "metadata": {},
   "outputs": [],
   "source": [
    "model_ctb.fit(X, y.astype(int), cat_features=[3, 4, 5, 6, 7, 8, 9, 14, 15, 16, 17, 19, 20])\n",
    "predictions = model_ctb.predict_proba(new_test[feature_columns])[:, 1]"
   ]
  },
  {
   "cell_type": "code",
   "execution_count": 23,
   "id": "6b1e5784",
   "metadata": {},
   "outputs": [],
   "source": [
    "submission = pd.DataFrame({'id':range(100000),'dep_delayed_15min':predictions})\n",
    "submission.to_csv('delay.csv', index=False)"
   ]
  }
 ],
 "metadata": {
  "kernelspec": {
   "display_name": "Python 3 (ipykernel)",
   "language": "python",
   "name": "python3"
  },
  "language_info": {
   "codemirror_mode": {
    "name": "ipython",
    "version": 3
   },
   "file_extension": ".py",
   "mimetype": "text/x-python",
   "name": "python",
   "nbconvert_exporter": "python",
   "pygments_lexer": "ipython3",
   "version": "3.11.5"
  }
 },
 "nbformat": 4,
 "nbformat_minor": 5
}

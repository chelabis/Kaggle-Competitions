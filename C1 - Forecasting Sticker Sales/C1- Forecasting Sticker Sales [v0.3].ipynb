{
 "cells": [
  {
   "cell_type": "markdown",
   "id": "2852a1b9",
   "metadata": {},
   "source": [
    "# Kaggle Competition 1: Forecasting Sticker Sales - V0.3"
   ]
  },
  {
   "cell_type": "code",
   "execution_count": 1,
   "id": "b4f1fdae",
   "metadata": {},
   "outputs": [],
   "source": [
    "import numpy as np\n",
    "import pandas as pd\n",
    "from sklearn.ensemble import RandomForestRegressor\n",
    "from sklearn.metrics import mean_absolute_percentage_error\n",
    "from sklearn.preprocessing import MinMaxScaler\n",
    "import tensorflow as tf\n",
    "from tensorflow import keras\n",
    "from tensorflow.keras.optimizers import Adam, RMSprop\n",
    "import lightgbm as lgb"
   ]
  },
  {
   "cell_type": "markdown",
   "id": "ad9a6a01",
   "metadata": {},
   "source": [
    "## Import Data\n",
    "### Train data"
   ]
  },
  {
   "cell_type": "code",
   "execution_count": 2,
   "id": "61d24779",
   "metadata": {},
   "outputs": [
    {
     "data": {
      "text/html": [
       "<div>\n",
       "<style scoped>\n",
       "    .dataframe tbody tr th:only-of-type {\n",
       "        vertical-align: middle;\n",
       "    }\n",
       "\n",
       "    .dataframe tbody tr th {\n",
       "        vertical-align: top;\n",
       "    }\n",
       "\n",
       "    .dataframe thead th {\n",
       "        text-align: right;\n",
       "    }\n",
       "</style>\n",
       "<table border=\"1\" class=\"dataframe\">\n",
       "  <thead>\n",
       "    <tr style=\"text-align: right;\">\n",
       "      <th></th>\n",
       "      <th>id</th>\n",
       "      <th>date</th>\n",
       "      <th>country</th>\n",
       "      <th>store</th>\n",
       "      <th>product</th>\n",
       "      <th>num_sold</th>\n",
       "    </tr>\n",
       "  </thead>\n",
       "  <tbody>\n",
       "    <tr>\n",
       "      <th>0</th>\n",
       "      <td>0</td>\n",
       "      <td>2010-01-01</td>\n",
       "      <td>Canada</td>\n",
       "      <td>Discount Stickers</td>\n",
       "      <td>Holographic Goose</td>\n",
       "      <td>NaN</td>\n",
       "    </tr>\n",
       "    <tr>\n",
       "      <th>1</th>\n",
       "      <td>1</td>\n",
       "      <td>2010-01-01</td>\n",
       "      <td>Canada</td>\n",
       "      <td>Discount Stickers</td>\n",
       "      <td>Kaggle</td>\n",
       "      <td>973.0</td>\n",
       "    </tr>\n",
       "    <tr>\n",
       "      <th>2</th>\n",
       "      <td>2</td>\n",
       "      <td>2010-01-01</td>\n",
       "      <td>Canada</td>\n",
       "      <td>Discount Stickers</td>\n",
       "      <td>Kaggle Tiers</td>\n",
       "      <td>906.0</td>\n",
       "    </tr>\n",
       "    <tr>\n",
       "      <th>3</th>\n",
       "      <td>3</td>\n",
       "      <td>2010-01-01</td>\n",
       "      <td>Canada</td>\n",
       "      <td>Discount Stickers</td>\n",
       "      <td>Kerneler</td>\n",
       "      <td>423.0</td>\n",
       "    </tr>\n",
       "    <tr>\n",
       "      <th>4</th>\n",
       "      <td>4</td>\n",
       "      <td>2010-01-01</td>\n",
       "      <td>Canada</td>\n",
       "      <td>Discount Stickers</td>\n",
       "      <td>Kerneler Dark Mode</td>\n",
       "      <td>491.0</td>\n",
       "    </tr>\n",
       "  </tbody>\n",
       "</table>\n",
       "</div>"
      ],
      "text/plain": [
       "   id        date country              store             product  num_sold\n",
       "0   0  2010-01-01  Canada  Discount Stickers   Holographic Goose       NaN\n",
       "1   1  2010-01-01  Canada  Discount Stickers              Kaggle     973.0\n",
       "2   2  2010-01-01  Canada  Discount Stickers        Kaggle Tiers     906.0\n",
       "3   3  2010-01-01  Canada  Discount Stickers            Kerneler     423.0\n",
       "4   4  2010-01-01  Canada  Discount Stickers  Kerneler Dark Mode     491.0"
      ]
     },
     "execution_count": 2,
     "metadata": {},
     "output_type": "execute_result"
    }
   ],
   "source": [
    "df = pd.read_csv('train.csv')\n",
    "df.head()"
   ]
  },
  {
   "cell_type": "code",
   "execution_count": 3,
   "id": "cbe174e3",
   "metadata": {},
   "outputs": [],
   "source": [
    "df.drop_duplicates(inplace=True)\n",
    "df.reset_index(drop=True, inplace=True)"
   ]
  },
  {
   "cell_type": "markdown",
   "id": "2c489614",
   "metadata": {},
   "source": [
    "### Test Data"
   ]
  },
  {
   "cell_type": "code",
   "execution_count": 4,
   "id": "7313a45f",
   "metadata": {},
   "outputs": [],
   "source": [
    "df_test = pd.read_csv('test.csv')\n",
    "df_test.drop('id', axis=1, inplace=True)"
   ]
  },
  {
   "cell_type": "markdown",
   "id": "749a98a9",
   "metadata": {},
   "source": [
    "## Handle missing values"
   ]
  },
  {
   "cell_type": "code",
   "execution_count": 5,
   "id": "50d1c49e",
   "metadata": {},
   "outputs": [
    {
     "name": "stdout",
     "output_type": "stream",
     "text": [
      "<class 'pandas.core.frame.DataFrame'>\n",
      "RangeIndex: 221259 entries, 0 to 221258\n",
      "Data columns (total 5 columns):\n",
      " #   Column    Non-Null Count   Dtype  \n",
      "---  ------    --------------   -----  \n",
      " 0   date      221259 non-null  object \n",
      " 1   country   221259 non-null  object \n",
      " 2   store     221259 non-null  object \n",
      " 3   product   221259 non-null  object \n",
      " 4   num_sold  221259 non-null  float64\n",
      "dtypes: float64(1), object(4)\n",
      "memory usage: 8.4+ MB\n"
     ]
    }
   ],
   "source": [
    "df.dropna(inplace=True)\n",
    "df.drop('id', axis=1, inplace=True)\n",
    "df.reset_index(drop=True, inplace=True)\n",
    "df.info()"
   ]
  },
  {
   "cell_type": "markdown",
   "id": "0a3dfa25",
   "metadata": {},
   "source": [
    "## Quantify Data\n",
    "### Date"
   ]
  },
  {
   "cell_type": "code",
   "execution_count": 6,
   "id": "3a77fd85",
   "metadata": {},
   "outputs": [],
   "source": [
    "# Extract date-related features\n",
    "def extract_date_features(data):\n",
    "    data['date'] = pd.to_datetime(data['date'])\n",
    "    data['year'] = data['date'].dt.year\n",
    "    data['month'] = data['date'].dt.month\n",
    "    data['day'] = data['date'].dt.day\n",
    "    data['weekday'] = data['date'].dt.weekday\n",
    "    data['weekofyear'] = data['date'].dt.isocalendar().week.astype(int)\n",
    "    return data.drop(columns=['date'])\n",
    "\n",
    "df = extract_date_features(df)\n",
    "df_test = extract_date_features(df_test)"
   ]
  },
  {
   "cell_type": "markdown",
   "id": "fa2ac2d3",
   "metadata": {},
   "source": [
    "### One-Hot Encoding"
   ]
  },
  {
   "cell_type": "code",
   "execution_count": 7,
   "id": "88e06f63",
   "metadata": {},
   "outputs": [],
   "source": [
    "# Train\n",
    "df = df.join(pd.get_dummies(df['country'], prefix = 'country').astype(int)).drop('country', axis=1)\n",
    "df = df.join(pd.get_dummies(df['store'], prefix = 'store').astype(int)).drop('store', axis=1)\n",
    "df = df.join(pd.get_dummies(df['product'], prefix = 'product').astype(int)).drop('product', axis=1)"
   ]
  },
  {
   "cell_type": "code",
   "execution_count": 8,
   "id": "a306bdd9",
   "metadata": {},
   "outputs": [],
   "source": [
    "# Test\n",
    "df_test = df_test.join(pd.get_dummies(df_test['country'], prefix = 'country').astype(int)).drop('country', axis=1)\n",
    "df_test = df_test.join(pd.get_dummies(df_test['store'], prefix = 'store').astype(int)).drop('store', axis=1)\n",
    "df_test = df_test.join(pd.get_dummies(df_test['product'], prefix = 'product').astype(int)).drop('product', axis=1)"
   ]
  },
  {
   "cell_type": "code",
   "execution_count": 9,
   "id": "a1302ba1",
   "metadata": {},
   "outputs": [
    {
     "data": {
      "text/html": [
       "<div>\n",
       "<style scoped>\n",
       "    .dataframe tbody tr th:only-of-type {\n",
       "        vertical-align: middle;\n",
       "    }\n",
       "\n",
       "    .dataframe tbody tr th {\n",
       "        vertical-align: top;\n",
       "    }\n",
       "\n",
       "    .dataframe thead th {\n",
       "        text-align: right;\n",
       "    }\n",
       "</style>\n",
       "<table border=\"1\" class=\"dataframe\">\n",
       "  <thead>\n",
       "    <tr style=\"text-align: right;\">\n",
       "      <th></th>\n",
       "      <th>num_sold</th>\n",
       "      <th>year</th>\n",
       "      <th>month</th>\n",
       "      <th>day</th>\n",
       "      <th>weekday</th>\n",
       "      <th>weekofyear</th>\n",
       "      <th>country_Canada</th>\n",
       "      <th>country_Finland</th>\n",
       "      <th>country_Italy</th>\n",
       "      <th>country_Kenya</th>\n",
       "      <th>country_Norway</th>\n",
       "      <th>country_Singapore</th>\n",
       "      <th>store_Discount Stickers</th>\n",
       "      <th>store_Premium Sticker Mart</th>\n",
       "      <th>store_Stickers for Less</th>\n",
       "      <th>product_Holographic Goose</th>\n",
       "      <th>product_Kaggle</th>\n",
       "      <th>product_Kaggle Tiers</th>\n",
       "      <th>product_Kerneler</th>\n",
       "      <th>product_Kerneler Dark Mode</th>\n",
       "    </tr>\n",
       "  </thead>\n",
       "  <tbody>\n",
       "    <tr>\n",
       "      <th>0</th>\n",
       "      <td>973</td>\n",
       "      <td>2010</td>\n",
       "      <td>1</td>\n",
       "      <td>1</td>\n",
       "      <td>4</td>\n",
       "      <td>53</td>\n",
       "      <td>1</td>\n",
       "      <td>0</td>\n",
       "      <td>0</td>\n",
       "      <td>0</td>\n",
       "      <td>0</td>\n",
       "      <td>0</td>\n",
       "      <td>1</td>\n",
       "      <td>0</td>\n",
       "      <td>0</td>\n",
       "      <td>0</td>\n",
       "      <td>1</td>\n",
       "      <td>0</td>\n",
       "      <td>0</td>\n",
       "      <td>0</td>\n",
       "    </tr>\n",
       "    <tr>\n",
       "      <th>1</th>\n",
       "      <td>906</td>\n",
       "      <td>2010</td>\n",
       "      <td>1</td>\n",
       "      <td>1</td>\n",
       "      <td>4</td>\n",
       "      <td>53</td>\n",
       "      <td>1</td>\n",
       "      <td>0</td>\n",
       "      <td>0</td>\n",
       "      <td>0</td>\n",
       "      <td>0</td>\n",
       "      <td>0</td>\n",
       "      <td>1</td>\n",
       "      <td>0</td>\n",
       "      <td>0</td>\n",
       "      <td>0</td>\n",
       "      <td>0</td>\n",
       "      <td>1</td>\n",
       "      <td>0</td>\n",
       "      <td>0</td>\n",
       "    </tr>\n",
       "    <tr>\n",
       "      <th>2</th>\n",
       "      <td>423</td>\n",
       "      <td>2010</td>\n",
       "      <td>1</td>\n",
       "      <td>1</td>\n",
       "      <td>4</td>\n",
       "      <td>53</td>\n",
       "      <td>1</td>\n",
       "      <td>0</td>\n",
       "      <td>0</td>\n",
       "      <td>0</td>\n",
       "      <td>0</td>\n",
       "      <td>0</td>\n",
       "      <td>1</td>\n",
       "      <td>0</td>\n",
       "      <td>0</td>\n",
       "      <td>0</td>\n",
       "      <td>0</td>\n",
       "      <td>0</td>\n",
       "      <td>1</td>\n",
       "      <td>0</td>\n",
       "    </tr>\n",
       "    <tr>\n",
       "      <th>3</th>\n",
       "      <td>491</td>\n",
       "      <td>2010</td>\n",
       "      <td>1</td>\n",
       "      <td>1</td>\n",
       "      <td>4</td>\n",
       "      <td>53</td>\n",
       "      <td>1</td>\n",
       "      <td>0</td>\n",
       "      <td>0</td>\n",
       "      <td>0</td>\n",
       "      <td>0</td>\n",
       "      <td>0</td>\n",
       "      <td>1</td>\n",
       "      <td>0</td>\n",
       "      <td>0</td>\n",
       "      <td>0</td>\n",
       "      <td>0</td>\n",
       "      <td>0</td>\n",
       "      <td>0</td>\n",
       "      <td>1</td>\n",
       "    </tr>\n",
       "    <tr>\n",
       "      <th>4</th>\n",
       "      <td>300</td>\n",
       "      <td>2010</td>\n",
       "      <td>1</td>\n",
       "      <td>1</td>\n",
       "      <td>4</td>\n",
       "      <td>53</td>\n",
       "      <td>1</td>\n",
       "      <td>0</td>\n",
       "      <td>0</td>\n",
       "      <td>0</td>\n",
       "      <td>0</td>\n",
       "      <td>0</td>\n",
       "      <td>0</td>\n",
       "      <td>0</td>\n",
       "      <td>1</td>\n",
       "      <td>1</td>\n",
       "      <td>0</td>\n",
       "      <td>0</td>\n",
       "      <td>0</td>\n",
       "      <td>0</td>\n",
       "    </tr>\n",
       "  </tbody>\n",
       "</table>\n",
       "</div>"
      ],
      "text/plain": [
       "   num_sold  year  month  day  weekday  weekofyear  country_Canada  \\\n",
       "0       973  2010      1    1        4          53               1   \n",
       "1       906  2010      1    1        4          53               1   \n",
       "2       423  2010      1    1        4          53               1   \n",
       "3       491  2010      1    1        4          53               1   \n",
       "4       300  2010      1    1        4          53               1   \n",
       "\n",
       "   country_Finland  country_Italy  country_Kenya  country_Norway  \\\n",
       "0                0              0              0               0   \n",
       "1                0              0              0               0   \n",
       "2                0              0              0               0   \n",
       "3                0              0              0               0   \n",
       "4                0              0              0               0   \n",
       "\n",
       "   country_Singapore  store_Discount Stickers  store_Premium Sticker Mart  \\\n",
       "0                  0                        1                           0   \n",
       "1                  0                        1                           0   \n",
       "2                  0                        1                           0   \n",
       "3                  0                        1                           0   \n",
       "4                  0                        0                           0   \n",
       "\n",
       "   store_Stickers for Less  product_Holographic Goose  product_Kaggle  \\\n",
       "0                        0                          0               1   \n",
       "1                        0                          0               0   \n",
       "2                        0                          0               0   \n",
       "3                        0                          0               0   \n",
       "4                        1                          1               0   \n",
       "\n",
       "   product_Kaggle Tiers  product_Kerneler  product_Kerneler Dark Mode  \n",
       "0                     0                 0                           0  \n",
       "1                     1                 0                           0  \n",
       "2                     0                 1                           0  \n",
       "3                     0                 0                           1  \n",
       "4                     0                 0                           0  "
      ]
     },
     "execution_count": 9,
     "metadata": {},
     "output_type": "execute_result"
    }
   ],
   "source": [
    "# Correct dtypes\n",
    "df['num_sold'] = df['num_sold'].astype(int)\n",
    "df.head()"
   ]
  },
  {
   "cell_type": "code",
   "execution_count": 10,
   "id": "65c9f400",
   "metadata": {},
   "outputs": [
    {
     "name": "stdout",
     "output_type": "stream",
     "text": [
      "<class 'pandas.core.frame.DataFrame'>\n",
      "RangeIndex: 221259 entries, 0 to 221258\n",
      "Data columns (total 20 columns):\n",
      " #   Column                      Non-Null Count   Dtype\n",
      "---  ------                      --------------   -----\n",
      " 0   num_sold                    221259 non-null  int32\n",
      " 1   year                        221259 non-null  int32\n",
      " 2   month                       221259 non-null  int32\n",
      " 3   day                         221259 non-null  int32\n",
      " 4   weekday                     221259 non-null  int32\n",
      " 5   weekofyear                  221259 non-null  int32\n",
      " 6   country_Canada              221259 non-null  int32\n",
      " 7   country_Finland             221259 non-null  int32\n",
      " 8   country_Italy               221259 non-null  int32\n",
      " 9   country_Kenya               221259 non-null  int32\n",
      " 10  country_Norway              221259 non-null  int32\n",
      " 11  country_Singapore           221259 non-null  int32\n",
      " 12  store_Discount Stickers     221259 non-null  int32\n",
      " 13  store_Premium Sticker Mart  221259 non-null  int32\n",
      " 14  store_Stickers for Less     221259 non-null  int32\n",
      " 15  product_Holographic Goose   221259 non-null  int32\n",
      " 16  product_Kaggle              221259 non-null  int32\n",
      " 17  product_Kaggle Tiers        221259 non-null  int32\n",
      " 18  product_Kerneler            221259 non-null  int32\n",
      " 19  product_Kerneler Dark Mode  221259 non-null  int32\n",
      "dtypes: int32(20)\n",
      "memory usage: 16.9 MB\n"
     ]
    }
   ],
   "source": [
    "df.info()"
   ]
  },
  {
   "cell_type": "code",
   "execution_count": 11,
   "id": "154e4bd0",
   "metadata": {},
   "outputs": [],
   "source": [
    "X = df.drop('num_sold', axis=1)\n",
    "y = df['num_sold']\n",
    "\n",
    "X_test = df_test"
   ]
  },
  {
   "cell_type": "code",
   "execution_count": 55,
   "id": "263194e1",
   "metadata": {},
   "outputs": [],
   "source": [
    "X_tr = X[:200000]\n",
    "X_val = X[200000:]\n",
    "\n",
    "y_tr = y[:200000]\n",
    "y_val = y[200000:]"
   ]
  },
  {
   "cell_type": "markdown",
   "id": "c9352578",
   "metadata": {},
   "source": [
    "## LGBM "
   ]
  },
  {
   "cell_type": "code",
   "execution_count": 56,
   "id": "d67a66d2",
   "metadata": {},
   "outputs": [
    {
     "name": "stderr",
     "output_type": "stream",
     "text": [
      "C:\\Users\\sajad\\AppData\\Roaming\\Python\\Python311\\site-packages\\lightgbm\\engine.py:204: UserWarning: Found `n_estimators` in params. Will use it instead of argument\n",
      "  _log_warning(f\"Found `{alias}` in params. Will use it instead of argument\")\n"
     ]
    },
    {
     "name": "stdout",
     "output_type": "stream",
     "text": [
      "[LightGBM] [Warning] Found whitespace in feature_names, replace with underlines\n",
      "[LightGBM] [Info] Total Bins 142\n",
      "[LightGBM] [Info] Number of data points in the train set: 200000, number of used features: 19\n",
      "[LightGBM] [Warning] Found whitespace in feature_names, replace with underlines\n",
      "[LightGBM] [Info] Start training from score 761.251485\n",
      "LightGBM MAPE: 0.13135170454731032\n"
     ]
    }
   ],
   "source": [
    "# LightGBM model\n",
    "def train_lightgbm(X_tr, y_tr, X_val, y_val):\n",
    "    train_data = lgb.Dataset(X_tr, label=y_tr)\n",
    "    val_data = lgb.Dataset(X_val, label=y_val)\n",
    "    \n",
    "    params = {\n",
    "        'objective': 'regression',\n",
    "        'metric': 'mape',\n",
    "        'boosting_type': 'gbdt',\n",
    "        'n_estimators': 400,\n",
    "        'num_leaves': 25,\n",
    "        'max_depth': -1,\n",
    "        'learning_rate': 0.119,\n",
    "        'reg_alpha': 0.007,\n",
    "        'min_child_samples': 90,\n",
    "        'colsample_bytree': 0.65,\n",
    "        'force_row_wise': True\n",
    "    }\n",
    "    \n",
    "    model = lgb.train(\n",
    "        params,\n",
    "        train_data,\n",
    "        valid_sets=[val_data]\n",
    "    )\n",
    "\n",
    "    return model\n",
    "\n",
    "lgb_model = train_lightgbm(X_tr, y_tr, X_val, y_val)\n",
    "\n",
    "lgb_predictions = lgb_model.predict(X_val)\n",
    "\n",
    "lgb_mape = mean_absolute_percentage_error(y_val, lgb_predictions)\n",
    "\n",
    "print(f\"LightGBM MAPE: {lgb_mape}\")"
   ]
  },
  {
   "cell_type": "code",
   "execution_count": 59,
   "id": "5d9449b7",
   "metadata": {},
   "outputs": [
    {
     "name": "stdout",
     "output_type": "stream",
     "text": [
      "Submission file created as 'submission.csv'\n"
     ]
    }
   ],
   "source": [
    "final_model = lgb_model\n",
    "test_predictions = final_model.predict(X_test)\n",
    "test_data = pd.read_csv('test.csv')\n",
    "# Create submission\n",
    "submission = pd.DataFrame({'id': test_data['id'], 'num_sold': test_predictions.astype(int)})\n",
    "submission.to_csv('submission_v06.csv', index=False)\n",
    "print(\"Submission file created as 'submission.csv'\")"
   ]
  },
  {
   "cell_type": "markdown",
   "id": "0dac0e08",
   "metadata": {},
   "source": [
    "## NN"
   ]
  },
  {
   "cell_type": "code",
   "execution_count": 32,
   "id": "0fbf3abe",
   "metadata": {},
   "outputs": [
    {
     "name": "stderr",
     "output_type": "stream",
     "text": [
      "C:\\Users\\sajad\\AppData\\Roaming\\Python\\Python311\\site-packages\\keras\\src\\layers\\normalization\\batch_normalization.py:142: UserWarning: Do not pass an `input_shape`/`input_dim` argument to a layer. When using Sequential models, prefer using an `Input(shape)` object as the first layer in the model instead.\n",
      "  super().__init__(**kwargs)\n"
     ]
    }
   ],
   "source": [
    "model = tf.keras.Sequential([\n",
    "    tf.keras.layers.BatchNormalization(input_shape=[19]),\n",
    "    tf.keras.layers.Dense(32, activation='relu'),\n",
    "    tf.keras.layers.Dense(128, activation='relu'),\n",
    "    tf.keras.layers.Dense(128, activation='relu'),\n",
    "    tf.keras.layers.Dense(1, activation='relu')\n",
    "])"
   ]
  },
  {
   "cell_type": "code",
   "execution_count": 33,
   "id": "5df0987c",
   "metadata": {},
   "outputs": [],
   "source": [
    "model.compile(optimizer=RMSprop(learning_rate=0.01), loss='mean_absolute_error', metrics=['mean_absolute_percentage_error'])"
   ]
  },
  {
   "cell_type": "code",
   "execution_count": 34,
   "id": "cfe1f61b",
   "metadata": {},
   "outputs": [
    {
     "name": "stdout",
     "output_type": "stream",
     "text": [
      "Epoch 1/10\n",
      "\u001b[1m6915/6915\u001b[0m \u001b[32m━━━━━━━━━━━━━━━━━━━━\u001b[0m\u001b[37m\u001b[0m \u001b[1m18s\u001b[0m 2ms/step - loss: 125.7204 - mean_absolute_percentage_error: 24.0319\n",
      "Epoch 2/10\n",
      "\u001b[1m6915/6915\u001b[0m \u001b[32m━━━━━━━━━━━━━━━━━━━━\u001b[0m\u001b[37m\u001b[0m \u001b[1m17s\u001b[0m 2ms/step - loss: 75.7458 - mean_absolute_percentage_error: 10.7548\n",
      "Epoch 3/10\n",
      "\u001b[1m6915/6915\u001b[0m \u001b[32m━━━━━━━━━━━━━━━━━━━━\u001b[0m\u001b[37m\u001b[0m \u001b[1m18s\u001b[0m 3ms/step - loss: 69.7993 - mean_absolute_percentage_error: 10.0475\n",
      "Epoch 4/10\n",
      "\u001b[1m6915/6915\u001b[0m \u001b[32m━━━━━━━━━━━━━━━━━━━━\u001b[0m\u001b[37m\u001b[0m \u001b[1m17s\u001b[0m 3ms/step - loss: 66.4197 - mean_absolute_percentage_error: 9.4043\n",
      "Epoch 5/10\n",
      "\u001b[1m6915/6915\u001b[0m \u001b[32m━━━━━━━━━━━━━━━━━━━━\u001b[0m\u001b[37m\u001b[0m \u001b[1m18s\u001b[0m 3ms/step - loss: 64.2516 - mean_absolute_percentage_error: 9.2820\n",
      "Epoch 6/10\n",
      "\u001b[1m6915/6915\u001b[0m \u001b[32m━━━━━━━━━━━━━━━━━━━━\u001b[0m\u001b[37m\u001b[0m \u001b[1m17s\u001b[0m 2ms/step - loss: 63.3295 - mean_absolute_percentage_error: 8.9422\n",
      "Epoch 7/10\n",
      "\u001b[1m6915/6915\u001b[0m \u001b[32m━━━━━━━━━━━━━━━━━━━━\u001b[0m\u001b[37m\u001b[0m \u001b[1m18s\u001b[0m 3ms/step - loss: 62.2978 - mean_absolute_percentage_error: 8.7258\n",
      "Epoch 8/10\n",
      "\u001b[1m6915/6915\u001b[0m \u001b[32m━━━━━━━━━━━━━━━━━━━━\u001b[0m\u001b[37m\u001b[0m \u001b[1m18s\u001b[0m 3ms/step - loss: 61.6886 - mean_absolute_percentage_error: 8.7584\n",
      "Epoch 9/10\n",
      "\u001b[1m6915/6915\u001b[0m \u001b[32m━━━━━━━━━━━━━━━━━━━━\u001b[0m\u001b[37m\u001b[0m \u001b[1m18s\u001b[0m 3ms/step - loss: 60.7469 - mean_absolute_percentage_error: 8.6013\n",
      "Epoch 10/10\n",
      "\u001b[1m6915/6915\u001b[0m \u001b[32m━━━━━━━━━━━━━━━━━━━━\u001b[0m\u001b[37m\u001b[0m \u001b[1m18s\u001b[0m 3ms/step - loss: 60.5006 - mean_absolute_percentage_error: 8.4650\n"
     ]
    }
   ],
   "source": [
    "hist = model.fit(X, y, epochs=10)"
   ]
  },
  {
   "cell_type": "code",
   "execution_count": 35,
   "id": "8ff53cc6",
   "metadata": {},
   "outputs": [
    {
     "name": "stdout",
     "output_type": "stream",
     "text": [
      "\u001b[1m3080/3080\u001b[0m \u001b[32m━━━━━━━━━━━━━━━━━━━━\u001b[0m\u001b[37m\u001b[0m \u001b[1m5s\u001b[0m 2ms/step\n"
     ]
    }
   ],
   "source": [
    "predictions = model.predict(X_test)\n",
    "predictions = predictions.reshape(98550,)"
   ]
  },
  {
   "cell_type": "code",
   "execution_count": 36,
   "id": "e5b6bf79",
   "metadata": {},
   "outputs": [
    {
     "name": "stdout",
     "output_type": "stream",
     "text": [
      "A submission file has been made\n"
     ]
    }
   ],
   "source": [
    "def make_submission(prediction, sub_name):\n",
    "  my_submission = pd.DataFrame({'id':pd.read_csv('test.csv').id,'num_sold':prediction})\n",
    "  my_submission.to_csv('{}.csv'.format(sub_name),index=False)\n",
    "  print('A submission file has been made')\n",
    "\n",
    "make_submission(predictions.astype(int),'submission(nn_v03)')"
   ]
  }
 ],
 "metadata": {
  "kernelspec": {
   "display_name": "Python 3 (ipykernel)",
   "language": "python",
   "name": "python3"
  },
  "language_info": {
   "codemirror_mode": {
    "name": "ipython",
    "version": 3
   },
   "file_extension": ".py",
   "mimetype": "text/x-python",
   "name": "python",
   "nbconvert_exporter": "python",
   "pygments_lexer": "ipython3",
   "version": "3.11.5"
  }
 },
 "nbformat": 4,
 "nbformat_minor": 5
}

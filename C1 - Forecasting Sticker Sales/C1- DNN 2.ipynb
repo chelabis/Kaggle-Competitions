{
 "cells": [
  {
   "cell_type": "markdown",
   "id": "2852a1b9",
   "metadata": {},
   "source": [
    "# Kaggle Competition 1: Forecasting Sticker Sales - V0.4"
   ]
  },
  {
   "cell_type": "code",
   "execution_count": 1,
   "id": "b4f1fdae",
   "metadata": {},
   "outputs": [],
   "source": [
    "import numpy as np\n",
    "import pandas as pd\n",
    "import matplotlib.pyplot as plt\n",
    "from sklearn.ensemble import RandomForestRegressor\n",
    "from sklearn.metrics import mean_absolute_percentage_error\n",
    "from sklearn.preprocessing import MinMaxScaler\n",
    "import tensorflow as tf\n",
    "from tensorflow import keras\n",
    "from tensorflow.keras.optimizers import Adam, RMSprop"
   ]
  },
  {
   "cell_type": "markdown",
   "id": "ad9a6a01",
   "metadata": {},
   "source": [
    "## Import Data\n",
    "### Train data"
   ]
  },
  {
   "cell_type": "code",
   "execution_count": 2,
   "id": "61d24779",
   "metadata": {},
   "outputs": [
    {
     "data": {
      "text/html": [
       "<div>\n",
       "<style scoped>\n",
       "    .dataframe tbody tr th:only-of-type {\n",
       "        vertical-align: middle;\n",
       "    }\n",
       "\n",
       "    .dataframe tbody tr th {\n",
       "        vertical-align: top;\n",
       "    }\n",
       "\n",
       "    .dataframe thead th {\n",
       "        text-align: right;\n",
       "    }\n",
       "</style>\n",
       "<table border=\"1\" class=\"dataframe\">\n",
       "  <thead>\n",
       "    <tr style=\"text-align: right;\">\n",
       "      <th></th>\n",
       "      <th>id</th>\n",
       "      <th>date</th>\n",
       "      <th>country</th>\n",
       "      <th>store</th>\n",
       "      <th>product</th>\n",
       "      <th>num_sold</th>\n",
       "    </tr>\n",
       "  </thead>\n",
       "  <tbody>\n",
       "    <tr>\n",
       "      <th>0</th>\n",
       "      <td>0</td>\n",
       "      <td>2010-01-01</td>\n",
       "      <td>Canada</td>\n",
       "      <td>Discount Stickers</td>\n",
       "      <td>Holographic Goose</td>\n",
       "      <td>NaN</td>\n",
       "    </tr>\n",
       "    <tr>\n",
       "      <th>1</th>\n",
       "      <td>1</td>\n",
       "      <td>2010-01-01</td>\n",
       "      <td>Canada</td>\n",
       "      <td>Discount Stickers</td>\n",
       "      <td>Kaggle</td>\n",
       "      <td>973.0</td>\n",
       "    </tr>\n",
       "    <tr>\n",
       "      <th>2</th>\n",
       "      <td>2</td>\n",
       "      <td>2010-01-01</td>\n",
       "      <td>Canada</td>\n",
       "      <td>Discount Stickers</td>\n",
       "      <td>Kaggle Tiers</td>\n",
       "      <td>906.0</td>\n",
       "    </tr>\n",
       "    <tr>\n",
       "      <th>3</th>\n",
       "      <td>3</td>\n",
       "      <td>2010-01-01</td>\n",
       "      <td>Canada</td>\n",
       "      <td>Discount Stickers</td>\n",
       "      <td>Kerneler</td>\n",
       "      <td>423.0</td>\n",
       "    </tr>\n",
       "    <tr>\n",
       "      <th>4</th>\n",
       "      <td>4</td>\n",
       "      <td>2010-01-01</td>\n",
       "      <td>Canada</td>\n",
       "      <td>Discount Stickers</td>\n",
       "      <td>Kerneler Dark Mode</td>\n",
       "      <td>491.0</td>\n",
       "    </tr>\n",
       "  </tbody>\n",
       "</table>\n",
       "</div>"
      ],
      "text/plain": [
       "   id        date country              store             product  num_sold\n",
       "0   0  2010-01-01  Canada  Discount Stickers   Holographic Goose       NaN\n",
       "1   1  2010-01-01  Canada  Discount Stickers              Kaggle     973.0\n",
       "2   2  2010-01-01  Canada  Discount Stickers        Kaggle Tiers     906.0\n",
       "3   3  2010-01-01  Canada  Discount Stickers            Kerneler     423.0\n",
       "4   4  2010-01-01  Canada  Discount Stickers  Kerneler Dark Mode     491.0"
      ]
     },
     "execution_count": 2,
     "metadata": {},
     "output_type": "execute_result"
    }
   ],
   "source": [
    "df = pd.read_csv('train.csv')\n",
    "df.head()"
   ]
  },
  {
   "cell_type": "code",
   "execution_count": 3,
   "id": "cbe174e3",
   "metadata": {},
   "outputs": [],
   "source": [
    "df.drop_duplicates(inplace=True)\n",
    "df.reset_index(drop=True, inplace=True)"
   ]
  },
  {
   "cell_type": "markdown",
   "id": "2c489614",
   "metadata": {},
   "source": [
    "### Test Data"
   ]
  },
  {
   "cell_type": "code",
   "execution_count": 4,
   "id": "7313a45f",
   "metadata": {},
   "outputs": [],
   "source": [
    "df_test = pd.read_csv('test.csv')\n",
    "df_test.drop('id', axis=1, inplace=True)"
   ]
  },
  {
   "cell_type": "markdown",
   "id": "749a98a9",
   "metadata": {},
   "source": [
    "## Handle missing values"
   ]
  },
  {
   "cell_type": "code",
   "execution_count": 5,
   "id": "50d1c49e",
   "metadata": {},
   "outputs": [
    {
     "name": "stdout",
     "output_type": "stream",
     "text": [
      "<class 'pandas.core.frame.DataFrame'>\n",
      "RangeIndex: 221259 entries, 0 to 221258\n",
      "Data columns (total 5 columns):\n",
      " #   Column    Non-Null Count   Dtype  \n",
      "---  ------    --------------   -----  \n",
      " 0   date      221259 non-null  object \n",
      " 1   country   221259 non-null  object \n",
      " 2   store     221259 non-null  object \n",
      " 3   product   221259 non-null  object \n",
      " 4   num_sold  221259 non-null  float64\n",
      "dtypes: float64(1), object(4)\n",
      "memory usage: 8.4+ MB\n"
     ]
    }
   ],
   "source": [
    "df.dropna(inplace=True)\n",
    "df.drop('id', axis=1, inplace=True)\n",
    "df.reset_index(drop=True, inplace=True)\n",
    "df.info()"
   ]
  },
  {
   "cell_type": "markdown",
   "id": "0a3dfa25",
   "metadata": {},
   "source": [
    "## Quantify Data\n",
    "### Date"
   ]
  },
  {
   "cell_type": "code",
   "execution_count": 6,
   "id": "3a77fd85",
   "metadata": {},
   "outputs": [],
   "source": [
    "# Extract date-related features\n",
    "def extract_date_features(data):\n",
    "    data['date'] = pd.to_datetime(data['date'])\n",
    "    data['year'] = data['date'].dt.year\n",
    "    data['month'] = data['date'].dt.month\n",
    "    data['day'] = data['date'].dt.day\n",
    "    data['weekday'] = data['date'].dt.weekday\n",
    "    data['weekofyear'] = data['date'].dt.isocalendar().week.astype(int)\n",
    "    return data.drop(columns=['date'])\n",
    "\n",
    "df = extract_date_features(df)\n",
    "df_test = extract_date_features(df_test)"
   ]
  },
  {
   "cell_type": "markdown",
   "id": "fa2ac2d3",
   "metadata": {},
   "source": [
    "### One-Hot Encoding"
   ]
  },
  {
   "cell_type": "code",
   "execution_count": 7,
   "id": "88e06f63",
   "metadata": {},
   "outputs": [],
   "source": [
    "# Train\n",
    "df = df.join(pd.get_dummies(df['country'], prefix = 'country').astype(int)).drop('country', axis=1)\n",
    "df = df.join(pd.get_dummies(df['store'], prefix = 'store').astype(int)).drop('store', axis=1)\n",
    "df = df.join(pd.get_dummies(df['product'], prefix = 'product').astype(int)).drop('product', axis=1)"
   ]
  },
  {
   "cell_type": "code",
   "execution_count": 8,
   "id": "a306bdd9",
   "metadata": {},
   "outputs": [],
   "source": [
    "# Test\n",
    "df_test = df_test.join(pd.get_dummies(df_test['country'], prefix = 'country').astype(int)).drop('country', axis=1)\n",
    "df_test = df_test.join(pd.get_dummies(df_test['store'], prefix = 'store').astype(int)).drop('store', axis=1)\n",
    "df_test = df_test.join(pd.get_dummies(df_test['product'], prefix = 'product').astype(int)).drop('product', axis=1)"
   ]
  },
  {
   "cell_type": "markdown",
   "id": "86a56c18",
   "metadata": {},
   "source": [
    "## Split the Data"
   ]
  },
  {
   "cell_type": "code",
   "execution_count": 9,
   "id": "51b3949a",
   "metadata": {},
   "outputs": [],
   "source": [
    "X = df.drop('num_sold', axis=1)\n",
    "y = df['num_sold']\n",
    "\n",
    "X_test = df_test"
   ]
  },
  {
   "cell_type": "code",
   "execution_count": 10,
   "id": "ee73b64d",
   "metadata": {},
   "outputs": [],
   "source": [
    "X_tr = X\n",
    "X_val = X[210000:]\n",
    "\n",
    "y_tr = y\n",
    "y_val = y[210000:]"
   ]
  },
  {
   "cell_type": "markdown",
   "id": "2fb1568a",
   "metadata": {},
   "source": [
    "## Data Normalization"
   ]
  },
  {
   "cell_type": "code",
   "execution_count": 11,
   "id": "0331fd2a",
   "metadata": {},
   "outputs": [],
   "source": [
    "scaler = MinMaxScaler()\n",
    "X_tr = scaler.fit_transform(X_tr)\n",
    "X_val = scaler.transform(X_val)\n",
    "X_test = scaler.transform(X_test)"
   ]
  },
  {
   "cell_type": "markdown",
   "id": "ea79dc03",
   "metadata": {},
   "source": [
    "## Create Model"
   ]
  },
  {
   "cell_type": "code",
   "execution_count": 12,
   "id": "0fbf3abe",
   "metadata": {},
   "outputs": [
    {
     "name": "stderr",
     "output_type": "stream",
     "text": [
      "C:\\Users\\sajad\\AppData\\Roaming\\Python\\Python311\\site-packages\\keras\\src\\layers\\core\\dense.py:87: UserWarning: Do not pass an `input_shape`/`input_dim` argument to a layer. When using Sequential models, prefer using an `Input(shape)` object as the first layer in the model instead.\n",
      "  super().__init__(activity_regularizer=activity_regularizer, **kwargs)\n"
     ]
    }
   ],
   "source": [
    "model = tf.keras.Sequential([\n",
    "    tf.keras.layers.Dense(256, activation='relu',input_shape=[19]),\n",
    "\n",
    "    tf.keras.layers.Dense(8, activation='relu'),\n",
    "    \n",
    "    tf.keras.layers.Dense(1, activation='relu')\n",
    "])"
   ]
  },
  {
   "cell_type": "code",
   "execution_count": 13,
   "id": "5df0987c",
   "metadata": {},
   "outputs": [],
   "source": [
    "model.compile(optimizer=Adam(learning_rate=0.01), loss='mean_squared_error', metrics=['mean_absolute_percentage_error'])"
   ]
  },
  {
   "cell_type": "code",
   "execution_count": 14,
   "id": "cfe1f61b",
   "metadata": {},
   "outputs": [
    {
     "name": "stdout",
     "output_type": "stream",
     "text": [
      "Epoch 1/100\n",
      "\u001b[1m6915/6915\u001b[0m \u001b[32m━━━━━━━━━━━━━━━━━━━━\u001b[0m\u001b[37m\u001b[0m \u001b[1m17s\u001b[0m 2ms/step - loss: 63547.0156 - mean_absolute_percentage_error: 48.5140\n",
      "Epoch 2/100\n",
      "\u001b[1m6915/6915\u001b[0m \u001b[32m━━━━━━━━━━━━━━━━━━━━\u001b[0m\u001b[37m\u001b[0m \u001b[1m16s\u001b[0m 2ms/step - loss: 13706.9912 - mean_absolute_percentage_error: 11.5002\n",
      "Epoch 3/100\n",
      "\u001b[1m6915/6915\u001b[0m \u001b[32m━━━━━━━━━━━━━━━━━━━━\u001b[0m\u001b[37m\u001b[0m \u001b[1m15s\u001b[0m 2ms/step - loss: 9549.1104 - mean_absolute_percentage_error: 11.3213\n",
      "Epoch 4/100\n",
      "\u001b[1m6915/6915\u001b[0m \u001b[32m━━━━━━━━━━━━━━━━━━━━\u001b[0m\u001b[37m\u001b[0m \u001b[1m17s\u001b[0m 2ms/step - loss: 8676.3096 - mean_absolute_percentage_error: 9.8776\n",
      "Epoch 5/100\n",
      "\u001b[1m6915/6915\u001b[0m \u001b[32m━━━━━━━━━━━━━━━━━━━━\u001b[0m\u001b[37m\u001b[0m \u001b[1m15s\u001b[0m 2ms/step - loss: 7361.5400 - mean_absolute_percentage_error: 10.2320\n",
      "Epoch 6/100\n",
      "\u001b[1m6915/6915\u001b[0m \u001b[32m━━━━━━━━━━━━━━━━━━━━\u001b[0m\u001b[37m\u001b[0m \u001b[1m14s\u001b[0m 2ms/step - loss: 7052.2051 - mean_absolute_percentage_error: 9.3689\n",
      "Epoch 7/100\n",
      "\u001b[1m6915/6915\u001b[0m \u001b[32m━━━━━━━━━━━━━━━━━━━━\u001b[0m\u001b[37m\u001b[0m \u001b[1m14s\u001b[0m 2ms/step - loss: 6923.1548 - mean_absolute_percentage_error: 9.4958\n",
      "Epoch 8/100\n",
      "\u001b[1m6915/6915\u001b[0m \u001b[32m━━━━━━━━━━━━━━━━━━━━\u001b[0m\u001b[37m\u001b[0m \u001b[1m14s\u001b[0m 2ms/step - loss: 6473.6611 - mean_absolute_percentage_error: 9.3304\n",
      "Epoch 9/100\n",
      "\u001b[1m6915/6915\u001b[0m \u001b[32m━━━━━━━━━━━━━━━━━━━━\u001b[0m\u001b[37m\u001b[0m \u001b[1m23s\u001b[0m 2ms/step - loss: 6309.6851 - mean_absolute_percentage_error: 9.4439\n",
      "Epoch 10/100\n",
      "\u001b[1m6915/6915\u001b[0m \u001b[32m━━━━━━━━━━━━━━━━━━━━\u001b[0m\u001b[37m\u001b[0m \u001b[1m15s\u001b[0m 2ms/step - loss: 6103.6050 - mean_absolute_percentage_error: 9.6883\n",
      "Epoch 11/100\n",
      "\u001b[1m6915/6915\u001b[0m \u001b[32m━━━━━━━━━━━━━━━━━━━━\u001b[0m\u001b[37m\u001b[0m \u001b[1m15s\u001b[0m 2ms/step - loss: 6023.8506 - mean_absolute_percentage_error: 9.7038\n",
      "Epoch 12/100\n",
      "\u001b[1m6915/6915\u001b[0m \u001b[32m━━━━━━━━━━━━━━━━━━━━\u001b[0m\u001b[37m\u001b[0m \u001b[1m21s\u001b[0m 2ms/step - loss: 5884.2510 - mean_absolute_percentage_error: 9.5751\n",
      "Epoch 13/100\n",
      "\u001b[1m6915/6915\u001b[0m \u001b[32m━━━━━━━━━━━━━━━━━━━━\u001b[0m\u001b[37m\u001b[0m \u001b[1m16s\u001b[0m 2ms/step - loss: 5685.7500 - mean_absolute_percentage_error: 9.5956\n",
      "Epoch 14/100\n",
      "\u001b[1m6915/6915\u001b[0m \u001b[32m━━━━━━━━━━━━━━━━━━━━\u001b[0m\u001b[37m\u001b[0m \u001b[1m16s\u001b[0m 2ms/step - loss: 5639.1592 - mean_absolute_percentage_error: 9.6915\n",
      "Epoch 15/100\n",
      "\u001b[1m6915/6915\u001b[0m \u001b[32m━━━━━━━━━━━━━━━━━━━━\u001b[0m\u001b[37m\u001b[0m \u001b[1m16s\u001b[0m 2ms/step - loss: 5558.7324 - mean_absolute_percentage_error: 9.7611\n",
      "Epoch 16/100\n",
      "\u001b[1m6915/6915\u001b[0m \u001b[32m━━━━━━━━━━━━━━━━━━━━\u001b[0m\u001b[37m\u001b[0m \u001b[1m16s\u001b[0m 2ms/step - loss: 5642.3838 - mean_absolute_percentage_error: 9.8031\n",
      "Epoch 17/100\n",
      "\u001b[1m6915/6915\u001b[0m \u001b[32m━━━━━━━━━━━━━━━━━━━━\u001b[0m\u001b[37m\u001b[0m \u001b[1m16s\u001b[0m 2ms/step - loss: 5509.9424 - mean_absolute_percentage_error: 9.7606\n",
      "Epoch 18/100\n",
      "\u001b[1m6915/6915\u001b[0m \u001b[32m━━━━━━━━━━━━━━━━━━━━\u001b[0m\u001b[37m\u001b[0m \u001b[1m16s\u001b[0m 2ms/step - loss: 5499.1958 - mean_absolute_percentage_error: 9.9753\n",
      "Epoch 19/100\n",
      "\u001b[1m6915/6915\u001b[0m \u001b[32m━━━━━━━━━━━━━━━━━━━━\u001b[0m\u001b[37m\u001b[0m \u001b[1m16s\u001b[0m 2ms/step - loss: 5341.2695 - mean_absolute_percentage_error: 9.8812\n",
      "Epoch 20/100\n",
      "\u001b[1m6915/6915\u001b[0m \u001b[32m━━━━━━━━━━━━━━━━━━━━\u001b[0m\u001b[37m\u001b[0m \u001b[1m16s\u001b[0m 2ms/step - loss: 5317.9790 - mean_absolute_percentage_error: 9.9241\n",
      "Epoch 21/100\n",
      "\u001b[1m6915/6915\u001b[0m \u001b[32m━━━━━━━━━━━━━━━━━━━━\u001b[0m\u001b[37m\u001b[0m \u001b[1m16s\u001b[0m 2ms/step - loss: 5250.8472 - mean_absolute_percentage_error: 9.8256\n",
      "Epoch 22/100\n",
      "\u001b[1m6915/6915\u001b[0m \u001b[32m━━━━━━━━━━━━━━━━━━━━\u001b[0m\u001b[37m\u001b[0m \u001b[1m16s\u001b[0m 2ms/step - loss: 5218.4614 - mean_absolute_percentage_error: 9.8125\n",
      "Epoch 23/100\n",
      "\u001b[1m6915/6915\u001b[0m \u001b[32m━━━━━━━━━━━━━━━━━━━━\u001b[0m\u001b[37m\u001b[0m \u001b[1m16s\u001b[0m 2ms/step - loss: 5382.9458 - mean_absolute_percentage_error: 9.9600\n",
      "Epoch 24/100\n",
      "\u001b[1m6915/6915\u001b[0m \u001b[32m━━━━━━━━━━━━━━━━━━━━\u001b[0m\u001b[37m\u001b[0m \u001b[1m16s\u001b[0m 2ms/step - loss: 5301.9839 - mean_absolute_percentage_error: 10.0676\n",
      "Epoch 25/100\n",
      "\u001b[1m6915/6915\u001b[0m \u001b[32m━━━━━━━━━━━━━━━━━━━━\u001b[0m\u001b[37m\u001b[0m \u001b[1m16s\u001b[0m 2ms/step - loss: 5268.3320 - mean_absolute_percentage_error: 10.0200\n",
      "Epoch 26/100\n",
      "\u001b[1m6915/6915\u001b[0m \u001b[32m━━━━━━━━━━━━━━━━━━━━\u001b[0m\u001b[37m\u001b[0m \u001b[1m16s\u001b[0m 2ms/step - loss: 5175.0303 - mean_absolute_percentage_error: 10.0284\n",
      "Epoch 27/100\n",
      "\u001b[1m6915/6915\u001b[0m \u001b[32m━━━━━━━━━━━━━━━━━━━━\u001b[0m\u001b[37m\u001b[0m \u001b[1m16s\u001b[0m 2ms/step - loss: 5209.8110 - mean_absolute_percentage_error: 9.9199\n",
      "Epoch 28/100\n",
      "\u001b[1m6915/6915\u001b[0m \u001b[32m━━━━━━━━━━━━━━━━━━━━\u001b[0m\u001b[37m\u001b[0m \u001b[1m21s\u001b[0m 2ms/step - loss: 5136.6924 - mean_absolute_percentage_error: 9.8927\n",
      "Epoch 29/100\n",
      "\u001b[1m6915/6915\u001b[0m \u001b[32m━━━━━━━━━━━━━━━━━━━━\u001b[0m\u001b[37m\u001b[0m \u001b[1m16s\u001b[0m 2ms/step - loss: 5061.0840 - mean_absolute_percentage_error: 9.8507\n",
      "Epoch 30/100\n",
      "\u001b[1m6915/6915\u001b[0m \u001b[32m━━━━━━━━━━━━━━━━━━━━\u001b[0m\u001b[37m\u001b[0m \u001b[1m16s\u001b[0m 2ms/step - loss: 5157.9277 - mean_absolute_percentage_error: 9.8823\n",
      "Epoch 31/100\n",
      "\u001b[1m6915/6915\u001b[0m \u001b[32m━━━━━━━━━━━━━━━━━━━━\u001b[0m\u001b[37m\u001b[0m \u001b[1m17s\u001b[0m 2ms/step - loss: 5056.5566 - mean_absolute_percentage_error: 9.8594\n",
      "Epoch 32/100\n",
      "\u001b[1m6915/6915\u001b[0m \u001b[32m━━━━━━━━━━━━━━━━━━━━\u001b[0m\u001b[37m\u001b[0m \u001b[1m17s\u001b[0m 3ms/step - loss: 5014.8774 - mean_absolute_percentage_error: 9.8174\n",
      "Epoch 33/100\n",
      "\u001b[1m6915/6915\u001b[0m \u001b[32m━━━━━━━━━━━━━━━━━━━━\u001b[0m\u001b[37m\u001b[0m \u001b[1m17s\u001b[0m 2ms/step - loss: 5021.1875 - mean_absolute_percentage_error: 9.8346\n",
      "Epoch 34/100\n",
      "\u001b[1m6915/6915\u001b[0m \u001b[32m━━━━━━━━━━━━━━━━━━━━\u001b[0m\u001b[37m\u001b[0m \u001b[1m17s\u001b[0m 2ms/step - loss: 5000.5386 - mean_absolute_percentage_error: 9.8123\n",
      "Epoch 35/100\n",
      "\u001b[1m6915/6915\u001b[0m \u001b[32m━━━━━━━━━━━━━━━━━━━━\u001b[0m\u001b[37m\u001b[0m \u001b[1m17s\u001b[0m 2ms/step - loss: 4936.7510 - mean_absolute_percentage_error: 9.8323\n",
      "Epoch 36/100\n",
      "\u001b[1m6915/6915\u001b[0m \u001b[32m━━━━━━━━━━━━━━━━━━━━\u001b[0m\u001b[37m\u001b[0m \u001b[1m17s\u001b[0m 3ms/step - loss: 4951.3496 - mean_absolute_percentage_error: 9.7390\n",
      "Epoch 37/100\n",
      "\u001b[1m6915/6915\u001b[0m \u001b[32m━━━━━━━━━━━━━━━━━━━━\u001b[0m\u001b[37m\u001b[0m \u001b[1m17s\u001b[0m 2ms/step - loss: 4881.5269 - mean_absolute_percentage_error: 9.6298\n",
      "Epoch 38/100\n",
      "\u001b[1m6915/6915\u001b[0m \u001b[32m━━━━━━━━━━━━━━━━━━━━\u001b[0m\u001b[37m\u001b[0m \u001b[1m21s\u001b[0m 2ms/step - loss: 4875.3755 - mean_absolute_percentage_error: 9.6523\n",
      "Epoch 39/100\n",
      "\u001b[1m6915/6915\u001b[0m \u001b[32m━━━━━━━━━━━━━━━━━━━━\u001b[0m\u001b[37m\u001b[0m \u001b[1m17s\u001b[0m 2ms/step - loss: 4899.6626 - mean_absolute_percentage_error: 9.7343\n",
      "Epoch 40/100\n",
      "\u001b[1m6915/6915\u001b[0m \u001b[32m━━━━━━━━━━━━━━━━━━━━\u001b[0m\u001b[37m\u001b[0m \u001b[1m17s\u001b[0m 2ms/step - loss: 4804.3730 - mean_absolute_percentage_error: 9.6692\n",
      "Epoch 41/100\n",
      "\u001b[1m6915/6915\u001b[0m \u001b[32m━━━━━━━━━━━━━━━━━━━━\u001b[0m\u001b[37m\u001b[0m \u001b[1m17s\u001b[0m 2ms/step - loss: 4778.5195 - mean_absolute_percentage_error: 9.7465\n",
      "Epoch 42/100\n",
      "\u001b[1m6915/6915\u001b[0m \u001b[32m━━━━━━━━━━━━━━━━━━━━\u001b[0m\u001b[37m\u001b[0m \u001b[1m17s\u001b[0m 2ms/step - loss: 4835.2388 - mean_absolute_percentage_error: 9.8058\n",
      "Epoch 43/100\n",
      "\u001b[1m6915/6915\u001b[0m \u001b[32m━━━━━━━━━━━━━━━━━━━━\u001b[0m\u001b[37m\u001b[0m \u001b[1m16s\u001b[0m 2ms/step - loss: 4759.5752 - mean_absolute_percentage_error: 9.7538\n",
      "Epoch 44/100\n",
      "\u001b[1m6915/6915\u001b[0m \u001b[32m━━━━━━━━━━━━━━━━━━━━\u001b[0m\u001b[37m\u001b[0m \u001b[1m17s\u001b[0m 2ms/step - loss: 4752.1084 - mean_absolute_percentage_error: 9.8054\n",
      "Epoch 45/100\n",
      "\u001b[1m6915/6915\u001b[0m \u001b[32m━━━━━━━━━━━━━━━━━━━━\u001b[0m\u001b[37m\u001b[0m \u001b[1m18s\u001b[0m 3ms/step - loss: 4704.7485 - mean_absolute_percentage_error: 9.7492\n",
      "Epoch 46/100\n",
      "\u001b[1m6915/6915\u001b[0m \u001b[32m━━━━━━━━━━━━━━━━━━━━\u001b[0m\u001b[37m\u001b[0m \u001b[1m18s\u001b[0m 3ms/step - loss: 4704.8682 - mean_absolute_percentage_error: 9.8099\n",
      "Epoch 47/100\n",
      "\u001b[1m6915/6915\u001b[0m \u001b[32m━━━━━━━━━━━━━━━━━━━━\u001b[0m\u001b[37m\u001b[0m \u001b[1m19s\u001b[0m 3ms/step - loss: 4583.2446 - mean_absolute_percentage_error: 9.7736\n",
      "Epoch 48/100\n",
      "\u001b[1m6915/6915\u001b[0m \u001b[32m━━━━━━━━━━━━━━━━━━━━\u001b[0m\u001b[37m\u001b[0m \u001b[1m18s\u001b[0m 3ms/step - loss: 4657.4282 - mean_absolute_percentage_error: 9.9315\n",
      "Epoch 49/100\n",
      "\u001b[1m6915/6915\u001b[0m \u001b[32m━━━━━━━━━━━━━━━━━━━━\u001b[0m\u001b[37m\u001b[0m \u001b[1m18s\u001b[0m 3ms/step - loss: 4650.3857 - mean_absolute_percentage_error: 9.8603\n",
      "Epoch 50/100\n",
      "\u001b[1m6915/6915\u001b[0m \u001b[32m━━━━━━━━━━━━━━━━━━━━\u001b[0m\u001b[37m\u001b[0m \u001b[1m16s\u001b[0m 2ms/step - loss: 4561.1938 - mean_absolute_percentage_error: 9.9218\n",
      "Epoch 51/100\n",
      "\u001b[1m6915/6915\u001b[0m \u001b[32m━━━━━━━━━━━━━━━━━━━━\u001b[0m\u001b[37m\u001b[0m \u001b[1m16s\u001b[0m 2ms/step - loss: 4638.1719 - mean_absolute_percentage_error: 9.9219\n",
      "Epoch 52/100\n",
      "\u001b[1m6915/6915\u001b[0m \u001b[32m━━━━━━━━━━━━━━━━━━━━\u001b[0m\u001b[37m\u001b[0m \u001b[1m16s\u001b[0m 2ms/step - loss: 4566.0010 - mean_absolute_percentage_error: 9.9491\n",
      "Epoch 53/100\n",
      "\u001b[1m6915/6915\u001b[0m \u001b[32m━━━━━━━━━━━━━━━━━━━━\u001b[0m\u001b[37m\u001b[0m \u001b[1m15s\u001b[0m 2ms/step - loss: 4467.7954 - mean_absolute_percentage_error: 9.8879\n",
      "Epoch 54/100\n",
      "\u001b[1m6915/6915\u001b[0m \u001b[32m━━━━━━━━━━━━━━━━━━━━\u001b[0m\u001b[37m\u001b[0m \u001b[1m14s\u001b[0m 2ms/step - loss: 4533.7100 - mean_absolute_percentage_error: 9.9988\n",
      "Epoch 55/100\n"
     ]
    },
    {
     "name": "stdout",
     "output_type": "stream",
     "text": [
      "\u001b[1m6915/6915\u001b[0m \u001b[32m━━━━━━━━━━━━━━━━━━━━\u001b[0m\u001b[37m\u001b[0m \u001b[1m14s\u001b[0m 2ms/step - loss: 4540.8682 - mean_absolute_percentage_error: 9.9513\n",
      "Epoch 56/100\n",
      "\u001b[1m6915/6915\u001b[0m \u001b[32m━━━━━━━━━━━━━━━━━━━━\u001b[0m\u001b[37m\u001b[0m \u001b[1m15s\u001b[0m 2ms/step - loss: 4472.7354 - mean_absolute_percentage_error: 9.8323\n",
      "Epoch 57/100\n",
      "\u001b[1m6915/6915\u001b[0m \u001b[32m━━━━━━━━━━━━━━━━━━━━\u001b[0m\u001b[37m\u001b[0m \u001b[1m15s\u001b[0m 2ms/step - loss: 4433.3169 - mean_absolute_percentage_error: 9.7928\n",
      "Epoch 58/100\n",
      "\u001b[1m6915/6915\u001b[0m \u001b[32m━━━━━━━━━━━━━━━━━━━━\u001b[0m\u001b[37m\u001b[0m \u001b[1m14s\u001b[0m 2ms/step - loss: 4551.8408 - mean_absolute_percentage_error: 9.7415\n",
      "Epoch 59/100\n",
      "\u001b[1m6915/6915\u001b[0m \u001b[32m━━━━━━━━━━━━━━━━━━━━\u001b[0m\u001b[37m\u001b[0m \u001b[1m15s\u001b[0m 2ms/step - loss: 4486.0347 - mean_absolute_percentage_error: 9.7681\n",
      "Epoch 60/100\n",
      "\u001b[1m6915/6915\u001b[0m \u001b[32m━━━━━━━━━━━━━━━━━━━━\u001b[0m\u001b[37m\u001b[0m \u001b[1m15s\u001b[0m 2ms/step - loss: 4500.4512 - mean_absolute_percentage_error: 9.7770\n",
      "Epoch 61/100\n",
      "\u001b[1m6915/6915\u001b[0m \u001b[32m━━━━━━━━━━━━━━━━━━━━\u001b[0m\u001b[37m\u001b[0m \u001b[1m15s\u001b[0m 2ms/step - loss: 4455.1841 - mean_absolute_percentage_error: 9.6621\n",
      "Epoch 62/100\n",
      "\u001b[1m6915/6915\u001b[0m \u001b[32m━━━━━━━━━━━━━━━━━━━━\u001b[0m\u001b[37m\u001b[0m \u001b[1m15s\u001b[0m 2ms/step - loss: 4558.8315 - mean_absolute_percentage_error: 9.6069\n",
      "Epoch 63/100\n",
      "\u001b[1m6915/6915\u001b[0m \u001b[32m━━━━━━━━━━━━━━━━━━━━\u001b[0m\u001b[37m\u001b[0m \u001b[1m15s\u001b[0m 2ms/step - loss: 4437.8174 - mean_absolute_percentage_error: 9.6349\n",
      "Epoch 64/100\n",
      "\u001b[1m6915/6915\u001b[0m \u001b[32m━━━━━━━━━━━━━━━━━━━━\u001b[0m\u001b[37m\u001b[0m \u001b[1m15s\u001b[0m 2ms/step - loss: 4479.6167 - mean_absolute_percentage_error: 9.5807\n",
      "Epoch 65/100\n",
      "\u001b[1m6915/6915\u001b[0m \u001b[32m━━━━━━━━━━━━━━━━━━━━\u001b[0m\u001b[37m\u001b[0m \u001b[1m15s\u001b[0m 2ms/step - loss: 4435.8691 - mean_absolute_percentage_error: 9.5128\n",
      "Epoch 66/100\n",
      "\u001b[1m6915/6915\u001b[0m \u001b[32m━━━━━━━━━━━━━━━━━━━━\u001b[0m\u001b[37m\u001b[0m \u001b[1m15s\u001b[0m 2ms/step - loss: 4410.2178 - mean_absolute_percentage_error: 9.5612\n",
      "Epoch 67/100\n",
      "\u001b[1m6915/6915\u001b[0m \u001b[32m━━━━━━━━━━━━━━━━━━━━\u001b[0m\u001b[37m\u001b[0m \u001b[1m15s\u001b[0m 2ms/step - loss: 4418.0166 - mean_absolute_percentage_error: 9.5853\n",
      "Epoch 68/100\n",
      "\u001b[1m6915/6915\u001b[0m \u001b[32m━━━━━━━━━━━━━━━━━━━━\u001b[0m\u001b[37m\u001b[0m \u001b[1m15s\u001b[0m 2ms/step - loss: 4400.7773 - mean_absolute_percentage_error: 9.6996\n",
      "Epoch 69/100\n",
      "\u001b[1m6915/6915\u001b[0m \u001b[32m━━━━━━━━━━━━━━━━━━━━\u001b[0m\u001b[37m\u001b[0m \u001b[1m15s\u001b[0m 2ms/step - loss: 4413.2754 - mean_absolute_percentage_error: 9.5139\n",
      "Epoch 70/100\n",
      "\u001b[1m6915/6915\u001b[0m \u001b[32m━━━━━━━━━━━━━━━━━━━━\u001b[0m\u001b[37m\u001b[0m \u001b[1m15s\u001b[0m 2ms/step - loss: 4471.7769 - mean_absolute_percentage_error: 9.6005\n",
      "Epoch 71/100\n",
      "\u001b[1m6915/6915\u001b[0m \u001b[32m━━━━━━━━━━━━━━━━━━━━\u001b[0m\u001b[37m\u001b[0m \u001b[1m16s\u001b[0m 2ms/step - loss: 4392.9194 - mean_absolute_percentage_error: 9.5361\n",
      "Epoch 72/100\n",
      "\u001b[1m6915/6915\u001b[0m \u001b[32m━━━━━━━━━━━━━━━━━━━━\u001b[0m\u001b[37m\u001b[0m \u001b[1m16s\u001b[0m 2ms/step - loss: 4395.6274 - mean_absolute_percentage_error: 9.5937\n",
      "Epoch 73/100\n",
      "\u001b[1m6915/6915\u001b[0m \u001b[32m━━━━━━━━━━━━━━━━━━━━\u001b[0m\u001b[37m\u001b[0m \u001b[1m16s\u001b[0m 2ms/step - loss: 4449.8003 - mean_absolute_percentage_error: 9.5154\n",
      "Epoch 74/100\n",
      "\u001b[1m6915/6915\u001b[0m \u001b[32m━━━━━━━━━━━━━━━━━━━━\u001b[0m\u001b[37m\u001b[0m \u001b[1m15s\u001b[0m 2ms/step - loss: 4377.5781 - mean_absolute_percentage_error: 9.5548\n",
      "Epoch 75/100\n",
      "\u001b[1m6915/6915\u001b[0m \u001b[32m━━━━━━━━━━━━━━━━━━━━\u001b[0m\u001b[37m\u001b[0m \u001b[1m15s\u001b[0m 2ms/step - loss: 4350.3047 - mean_absolute_percentage_error: 9.5622\n",
      "Epoch 76/100\n",
      "\u001b[1m6915/6915\u001b[0m \u001b[32m━━━━━━━━━━━━━━━━━━━━\u001b[0m\u001b[37m\u001b[0m \u001b[1m15s\u001b[0m 2ms/step - loss: 4370.8350 - mean_absolute_percentage_error: 9.5507\n",
      "Epoch 77/100\n",
      "\u001b[1m6915/6915\u001b[0m \u001b[32m━━━━━━━━━━━━━━━━━━━━\u001b[0m\u001b[37m\u001b[0m \u001b[1m16s\u001b[0m 2ms/step - loss: 4415.7744 - mean_absolute_percentage_error: 9.4593\n",
      "Epoch 78/100\n",
      "\u001b[1m6915/6915\u001b[0m \u001b[32m━━━━━━━━━━━━━━━━━━━━\u001b[0m\u001b[37m\u001b[0m \u001b[1m16s\u001b[0m 2ms/step - loss: 4449.6631 - mean_absolute_percentage_error: 9.5417\n",
      "Epoch 79/100\n",
      "\u001b[1m6915/6915\u001b[0m \u001b[32m━━━━━━━━━━━━━━━━━━━━\u001b[0m\u001b[37m\u001b[0m \u001b[1m15s\u001b[0m 2ms/step - loss: 4406.5566 - mean_absolute_percentage_error: 9.5434\n",
      "Epoch 80/100\n",
      "\u001b[1m6915/6915\u001b[0m \u001b[32m━━━━━━━━━━━━━━━━━━━━\u001b[0m\u001b[37m\u001b[0m \u001b[1m16s\u001b[0m 2ms/step - loss: 4356.4253 - mean_absolute_percentage_error: 9.5814\n",
      "Epoch 81/100\n",
      "\u001b[1m6915/6915\u001b[0m \u001b[32m━━━━━━━━━━━━━━━━━━━━\u001b[0m\u001b[37m\u001b[0m \u001b[1m16s\u001b[0m 2ms/step - loss: 4325.3286 - mean_absolute_percentage_error: 9.4860\n",
      "Epoch 82/100\n",
      "\u001b[1m6915/6915\u001b[0m \u001b[32m━━━━━━━━━━━━━━━━━━━━\u001b[0m\u001b[37m\u001b[0m \u001b[1m16s\u001b[0m 2ms/step - loss: 4300.1431 - mean_absolute_percentage_error: 9.4721\n",
      "Epoch 83/100\n",
      "\u001b[1m6915/6915\u001b[0m \u001b[32m━━━━━━━━━━━━━━━━━━━━\u001b[0m\u001b[37m\u001b[0m \u001b[1m16s\u001b[0m 2ms/step - loss: 4339.3315 - mean_absolute_percentage_error: 9.6122\n",
      "Epoch 84/100\n",
      "\u001b[1m6915/6915\u001b[0m \u001b[32m━━━━━━━━━━━━━━━━━━━━\u001b[0m\u001b[37m\u001b[0m \u001b[1m16s\u001b[0m 2ms/step - loss: 4267.5884 - mean_absolute_percentage_error: 9.4649\n",
      "Epoch 85/100\n",
      "\u001b[1m6915/6915\u001b[0m \u001b[32m━━━━━━━━━━━━━━━━━━━━\u001b[0m\u001b[37m\u001b[0m \u001b[1m22s\u001b[0m 3ms/step - loss: 4304.3042 - mean_absolute_percentage_error: 9.5553\n",
      "Epoch 86/100\n",
      "\u001b[1m6915/6915\u001b[0m \u001b[32m━━━━━━━━━━━━━━━━━━━━\u001b[0m\u001b[37m\u001b[0m \u001b[1m16s\u001b[0m 2ms/step - loss: 4361.8398 - mean_absolute_percentage_error: 9.5765\n",
      "Epoch 87/100\n",
      "\u001b[1m6915/6915\u001b[0m \u001b[32m━━━━━━━━━━━━━━━━━━━━\u001b[0m\u001b[37m\u001b[0m \u001b[1m17s\u001b[0m 3ms/step - loss: 4365.8428 - mean_absolute_percentage_error: 9.4693\n",
      "Epoch 88/100\n",
      "\u001b[1m6915/6915\u001b[0m \u001b[32m━━━━━━━━━━━━━━━━━━━━\u001b[0m\u001b[37m\u001b[0m \u001b[1m18s\u001b[0m 3ms/step - loss: 4307.1460 - mean_absolute_percentage_error: 9.4688\n",
      "Epoch 89/100\n",
      "\u001b[1m6915/6915\u001b[0m \u001b[32m━━━━━━━━━━━━━━━━━━━━\u001b[0m\u001b[37m\u001b[0m \u001b[1m17s\u001b[0m 2ms/step - loss: 4246.2769 - mean_absolute_percentage_error: 9.4662\n",
      "Epoch 90/100\n",
      "\u001b[1m6915/6915\u001b[0m \u001b[32m━━━━━━━━━━━━━━━━━━━━\u001b[0m\u001b[37m\u001b[0m \u001b[1m17s\u001b[0m 2ms/step - loss: 4290.0581 - mean_absolute_percentage_error: 9.5101\n",
      "Epoch 91/100\n",
      "\u001b[1m6915/6915\u001b[0m \u001b[32m━━━━━━━━━━━━━━━━━━━━\u001b[0m\u001b[37m\u001b[0m \u001b[1m17s\u001b[0m 2ms/step - loss: 4230.3628 - mean_absolute_percentage_error: 9.4277\n",
      "Epoch 92/100\n",
      "\u001b[1m6915/6915\u001b[0m \u001b[32m━━━━━━━━━━━━━━━━━━━━\u001b[0m\u001b[37m\u001b[0m \u001b[1m17s\u001b[0m 3ms/step - loss: 4312.3135 - mean_absolute_percentage_error: 9.5765\n",
      "Epoch 93/100\n",
      "\u001b[1m6915/6915\u001b[0m \u001b[32m━━━━━━━━━━━━━━━━━━━━\u001b[0m\u001b[37m\u001b[0m \u001b[1m17s\u001b[0m 3ms/step - loss: 4208.2051 - mean_absolute_percentage_error: 9.6008\n",
      "Epoch 94/100\n",
      "\u001b[1m6915/6915\u001b[0m \u001b[32m━━━━━━━━━━━━━━━━━━━━\u001b[0m\u001b[37m\u001b[0m \u001b[1m20s\u001b[0m 2ms/step - loss: 4265.8896 - mean_absolute_percentage_error: 9.5282\n",
      "Epoch 95/100\n",
      "\u001b[1m6915/6915\u001b[0m \u001b[32m━━━━━━━━━━━━━━━━━━━━\u001b[0m\u001b[37m\u001b[0m \u001b[1m17s\u001b[0m 2ms/step - loss: 4272.7881 - mean_absolute_percentage_error: 9.4052\n",
      "Epoch 96/100\n",
      "\u001b[1m6915/6915\u001b[0m \u001b[32m━━━━━━━━━━━━━━━━━━━━\u001b[0m\u001b[37m\u001b[0m \u001b[1m17s\u001b[0m 2ms/step - loss: 4268.0728 - mean_absolute_percentage_error: 9.5556\n",
      "Epoch 97/100\n",
      "\u001b[1m6915/6915\u001b[0m \u001b[32m━━━━━━━━━━━━━━━━━━━━\u001b[0m\u001b[37m\u001b[0m \u001b[1m18s\u001b[0m 3ms/step - loss: 4271.4375 - mean_absolute_percentage_error: 9.3725\n",
      "Epoch 98/100\n",
      "\u001b[1m6915/6915\u001b[0m \u001b[32m━━━━━━━━━━━━━━━━━━━━\u001b[0m\u001b[37m\u001b[0m \u001b[1m17s\u001b[0m 2ms/step - loss: 4264.1411 - mean_absolute_percentage_error: 9.5982\n",
      "Epoch 99/100\n",
      "\u001b[1m6915/6915\u001b[0m \u001b[32m━━━━━━━━━━━━━━━━━━━━\u001b[0m\u001b[37m\u001b[0m \u001b[1m17s\u001b[0m 3ms/step - loss: 4276.2104 - mean_absolute_percentage_error: 9.4985\n",
      "Epoch 100/100\n",
      "\u001b[1m6915/6915\u001b[0m \u001b[32m━━━━━━━━━━━━━━━━━━━━\u001b[0m\u001b[37m\u001b[0m \u001b[1m17s\u001b[0m 2ms/step - loss: 4215.6597 - mean_absolute_percentage_error: 9.4378\n"
     ]
    }
   ],
   "source": [
    "hist = model.fit(X_tr, y_tr, epochs=100)"
   ]
  },
  {
   "cell_type": "markdown",
   "id": "1d00f764",
   "metadata": {},
   "source": [
    "## Visualization"
   ]
  },
  {
   "cell_type": "code",
   "execution_count": 18,
   "id": "27b76246",
   "metadata": {},
   "outputs": [
    {
     "data": {
      "image/png": "[encoded data removed]",
      "text/plain": [
       "<Figure size 640x480 with 1 Axes>"
      ]
     },
     "metadata": {},
     "output_type": "display_data"
    }
   ],
   "source": [
    "plt.figure()\n",
    "plt.plot(hist.history['mean_absolute_percentage_error'])\n",
    "plt.plot(hist.history['loss'])\n",
    "plt.xlabel('Epochs')\n",
    "plt.ylabel('Loss')\n",
    "plt.legend(['MAPE', 'MSE'])\n",
    "plt.show()"
   ]
  },
  {
   "cell_type": "markdown",
   "id": "0713bb45",
   "metadata": {},
   "source": [
    "## Make Predictions"
   ]
  },
  {
   "cell_type": "code",
   "execution_count": 16,
   "id": "8ff53cc6",
   "metadata": {},
   "outputs": [
    {
     "name": "stdout",
     "output_type": "stream",
     "text": [
      "\u001b[1m3080/3080\u001b[0m \u001b[32m━━━━━━━━━━━━━━━━━━━━\u001b[0m\u001b[37m\u001b[0m \u001b[1m5s\u001b[0m 2ms/step\n"
     ]
    }
   ],
   "source": [
    "predictions = model.predict(X_test)\n",
    "predictions = predictions.reshape(98550,)"
   ]
  },
  {
   "cell_type": "markdown",
   "id": "be1748ef",
   "metadata": {},
   "source": [
    "## Make Submisson"
   ]
  },
  {
   "cell_type": "code",
   "execution_count": 188,
   "id": "c77f8b62",
   "metadata": {},
   "outputs": [],
   "source": [
    "#predictions = predictions * 1.2"
   ]
  },
  {
   "cell_type": "code",
   "execution_count": 17,
   "id": "e5b6bf79",
   "metadata": {},
   "outputs": [
    {
     "name": "stdout",
     "output_type": "stream",
     "text": [
      "A submission file has been made\n"
     ]
    }
   ],
   "source": [
    "def make_submission(prediction, sub_name):\n",
    "  my_submission = pd.DataFrame({'id':pd.read_csv('test.csv').id,'num_sold':prediction})\n",
    "  my_submission.to_csv('{}.csv'.format(sub_name),index=False)\n",
    "  print('A submission file has been made')\n",
    "\n",
    "make_submission(predictions.astype(int),'submission(nn_v11)')"
   ]
  }
 ],
 "metadata": {
  "kernelspec": {
   "display_name": "Python 3 (ipykernel)",
   "language": "python",
   "name": "python3"
  },
  "language_info": {
   "codemirror_mode": {
    "name": "ipython",
    "version": 3
   },
   "file_extension": ".py",
   "mimetype": "text/x-python",
   "name": "python",
   "nbconvert_exporter": "python",
   "pygments_lexer": "ipython3",
   "version": "3.11.5"
  }
 },
 "nbformat": 4,
 "nbformat_minor": 5
}

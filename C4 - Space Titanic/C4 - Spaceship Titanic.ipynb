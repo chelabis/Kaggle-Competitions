{
 "cells": [
  {
   "cell_type": "code",
   "execution_count": 174,
   "id": "da0052af",
   "metadata": {},
   "outputs": [],
   "source": [
    "import numpy as np\n",
    "import pandas as pd\n",
    "import matplotlib.pyplot as plt\n",
    "from sklearn.model_selection import train_test_split\n",
    "from sklearn.preprocessing import MinMaxScaler, StandardScaler\n",
    "from sklearn.ensemble import RandomForestClassifier\n",
    "from catboost import CatBoostClassifier"
   ]
  },
  {
   "cell_type": "code",
   "execution_count": 187,
   "id": "f8da0c18",
   "metadata": {},
   "outputs": [
    {
     "data": {
      "text/html": [
       "<div>\n",
       "<style scoped>\n",
       "    .dataframe tbody tr th:only-of-type {\n",
       "        vertical-align: middle;\n",
       "    }\n",
       "\n",
       "    .dataframe tbody tr th {\n",
       "        vertical-align: top;\n",
       "    }\n",
       "\n",
       "    .dataframe thead th {\n",
       "        text-align: right;\n",
       "    }\n",
       "</style>\n",
       "<table border=\"1\" class=\"dataframe\">\n",
       "  <thead>\n",
       "    <tr style=\"text-align: right;\">\n",
       "      <th></th>\n",
       "      <th>PassengerId</th>\n",
       "      <th>HomePlanet</th>\n",
       "      <th>CryoSleep</th>\n",
       "      <th>Cabin</th>\n",
       "      <th>Destination</th>\n",
       "      <th>Age</th>\n",
       "      <th>VIP</th>\n",
       "      <th>RoomService</th>\n",
       "      <th>FoodCourt</th>\n",
       "      <th>ShoppingMall</th>\n",
       "      <th>Spa</th>\n",
       "      <th>VRDeck</th>\n",
       "      <th>Name</th>\n",
       "      <th>Transported</th>\n",
       "    </tr>\n",
       "  </thead>\n",
       "  <tbody>\n",
       "    <tr>\n",
       "      <th>0</th>\n",
       "      <td>0001_01</td>\n",
       "      <td>Europa</td>\n",
       "      <td>False</td>\n",
       "      <td>B/0/P</td>\n",
       "      <td>TRAPPIST-1e</td>\n",
       "      <td>39.0</td>\n",
       "      <td>False</td>\n",
       "      <td>0.0</td>\n",
       "      <td>0.0</td>\n",
       "      <td>0.0</td>\n",
       "      <td>0.0</td>\n",
       "      <td>0.0</td>\n",
       "      <td>Maham Ofracculy</td>\n",
       "      <td>False</td>\n",
       "    </tr>\n",
       "    <tr>\n",
       "      <th>1</th>\n",
       "      <td>0002_01</td>\n",
       "      <td>Earth</td>\n",
       "      <td>False</td>\n",
       "      <td>F/0/S</td>\n",
       "      <td>TRAPPIST-1e</td>\n",
       "      <td>24.0</td>\n",
       "      <td>False</td>\n",
       "      <td>109.0</td>\n",
       "      <td>9.0</td>\n",
       "      <td>25.0</td>\n",
       "      <td>549.0</td>\n",
       "      <td>44.0</td>\n",
       "      <td>Juanna Vines</td>\n",
       "      <td>True</td>\n",
       "    </tr>\n",
       "    <tr>\n",
       "      <th>2</th>\n",
       "      <td>0003_01</td>\n",
       "      <td>Europa</td>\n",
       "      <td>False</td>\n",
       "      <td>A/0/S</td>\n",
       "      <td>TRAPPIST-1e</td>\n",
       "      <td>58.0</td>\n",
       "      <td>True</td>\n",
       "      <td>43.0</td>\n",
       "      <td>3576.0</td>\n",
       "      <td>0.0</td>\n",
       "      <td>6715.0</td>\n",
       "      <td>49.0</td>\n",
       "      <td>Altark Susent</td>\n",
       "      <td>False</td>\n",
       "    </tr>\n",
       "  </tbody>\n",
       "</table>\n",
       "</div>"
      ],
      "text/plain": [
       "  PassengerId HomePlanet CryoSleep  Cabin  Destination   Age    VIP  \\\n",
       "0     0001_01     Europa     False  B/0/P  TRAPPIST-1e  39.0  False   \n",
       "1     0002_01      Earth     False  F/0/S  TRAPPIST-1e  24.0  False   \n",
       "2     0003_01     Europa     False  A/0/S  TRAPPIST-1e  58.0   True   \n",
       "\n",
       "   RoomService  FoodCourt  ShoppingMall     Spa  VRDeck             Name  \\\n",
       "0          0.0        0.0           0.0     0.0     0.0  Maham Ofracculy   \n",
       "1        109.0        9.0          25.0   549.0    44.0     Juanna Vines   \n",
       "2         43.0     3576.0           0.0  6715.0    49.0    Altark Susent   \n",
       "\n",
       "   Transported  \n",
       "0        False  \n",
       "1         True  \n",
       "2        False  "
      ]
     },
     "execution_count": 187,
     "metadata": {},
     "output_type": "execute_result"
    }
   ],
   "source": [
    "train = pd.read_csv('train.csv')\n",
    "test = pd.read_csv('test.csv')\n",
    "train.head(3)"
   ]
  },
  {
   "cell_type": "markdown",
   "id": "557f5e49",
   "metadata": {},
   "source": [
    "## Handle Missing Values\n",
    "### Extract PassengerId"
   ]
  },
  {
   "cell_type": "code",
   "execution_count": 188,
   "id": "a46a3bbe",
   "metadata": {},
   "outputs": [],
   "source": [
    "# Split PassengerId\n",
    "# Train-set\n",
    "train['P_grp'] = train.PassengerId.str.split('_', expand=True)[0].astype(int)\n",
    "train['P_id'] = train.PassengerId.str.split('_', expand=True)[1].astype(int)\n",
    "\n",
    "# Test-set\n",
    "test['P_grp'] = test.PassengerId.str.split('_', expand=True)[0].astype(int)\n",
    "test['P_id'] = test.PassengerId.str.split('_', expand=True)[1].astype(int)"
   ]
  },
  {
   "cell_type": "markdown",
   "id": "2a5b75e2",
   "metadata": {},
   "source": [
    "### Cabin"
   ]
  },
  {
   "cell_type": "code",
   "execution_count": 189,
   "id": "9fae602f",
   "metadata": {},
   "outputs": [],
   "source": [
    "# Train-set\n",
    "ca_id = train[train.Cabin.isna()].index\n",
    "for i in range(199):\n",
    "    if train.P_id.iloc[ca_id[i]] < 2:\n",
    "        train.Cabin.replace(np.nan, train.Cabin.iloc[ca_id[i]+1], inplace=True)\n",
    "    else:\n",
    "        train.Cabin.replace(np.nan, train.Cabin.iloc[ca_id[i]-1], inplace=True)\n",
    "        \n",
    "# Test-set\n",
    "ca_id = test[test.Cabin.isna()].index\n",
    "for i in range(100):\n",
    "    if test.P_id.iloc[ca_id[i]] < 2:\n",
    "        test.Cabin.replace(np.nan, test.Cabin.iloc[ca_id[i]+1], inplace=True)\n",
    "    else:\n",
    "        test.Cabin.replace(np.nan, test.Cabin.iloc[ca_id[i]-1], inplace=True)"
   ]
  },
  {
   "cell_type": "markdown",
   "id": "cc45d15e",
   "metadata": {},
   "source": [
    "### Extract Cabin"
   ]
  },
  {
   "cell_type": "code",
   "execution_count": 190,
   "id": "f83265b7",
   "metadata": {},
   "outputs": [],
   "source": [
    "# Split Cabin\n",
    "# Train-set\n",
    "train['C_1'] = train.Cabin.str.split('/', expand=True)[0]\n",
    "train['C_2'] = train.Cabin.str.split('/', expand=True)[1]\n",
    "train['C_3'] = train.Cabin.str.split('/', expand=True)[2]\n",
    "train.drop(['PassengerId', 'Cabin', 'Name'], axis=1, inplace=True)\n",
    "\n",
    "# Test-set\n",
    "test['C_1'] = test.Cabin.str.split('/', expand=True)[0]\n",
    "test['C_2'] = test.Cabin.str.split('/', expand=True)[1]\n",
    "test['C_3'] = test.Cabin.str.split('/', expand=True)[2]\n",
    "test.drop(['PassengerId', 'Cabin','Name'], axis=1, inplace=True)"
   ]
  },
  {
   "cell_type": "markdown",
   "id": "fa04f0a5",
   "metadata": {},
   "source": [
    "### RoomService, FoodCourt, ShoppingMall, Spa, VRDeck"
   ]
  },
  {
   "cell_type": "code",
   "execution_count": 191,
   "id": "10a6ee26",
   "metadata": {},
   "outputs": [],
   "source": [
    "# Train-set\n",
    "train.RoomService.replace(np.nan, 0.0, inplace=True)\n",
    "train.FoodCourt.replace(np.nan, 0.0, inplace=True)\n",
    "train.ShoppingMall.replace(np.nan, 0.0, inplace=True)\n",
    "train.Spa.replace(np.nan, 0.0, inplace=True)\n",
    "train.VRDeck.replace(np.nan, 0.0, inplace=True)\n",
    "\n",
    "# Test-set\n",
    "test.RoomService.replace(np.nan, 0.0, inplace=True)\n",
    "test.FoodCourt.replace(np.nan, 0.0, inplace=True)\n",
    "test.ShoppingMall.replace(np.nan, 0.0, inplace=True)\n",
    "test.Spa.replace(np.nan, 0.0, inplace=True)\n",
    "test.VRDeck.replace(np.nan, 0.0, inplace=True)"
   ]
  },
  {
   "cell_type": "markdown",
   "id": "c20086d0",
   "metadata": {},
   "source": [
    "### HomePlanet & Destination & CryoSleep & VIP"
   ]
  },
  {
   "cell_type": "code",
   "execution_count": 192,
   "id": "d1ae7c78",
   "metadata": {},
   "outputs": [],
   "source": [
    "# Train-set\n",
    "h_id = train[train.HomePlanet.isna()].index\n",
    "d_id = train[train.Destination.isna()].index\n",
    "c_id = train[train.CryoSleep.isna()].index\n",
    "v_id = train[train.VIP.isna()].index\n",
    "for i in range(201):\n",
    "    if train.P_id.iloc[h_id[i]] < 2:\n",
    "        train.HomePlanet.replace(np.nan, train.HomePlanet.iloc[h_id[i]+1], inplace=True)\n",
    "    else:\n",
    "        train.HomePlanet.replace(np.nan, train.HomePlanet.iloc[h_id[i]-1], inplace=True)\n",
    "        \n",
    "for i in range(182):\n",
    "    if train.P_id.iloc[d_id[i]] < 2:\n",
    "        train.Destination.replace(np.nan, train.Destination.iloc[d_id[i]+1], inplace=True)\n",
    "    else:\n",
    "        train.Destination.replace(np.nan, train.Destination.iloc[d_id[i]-1], inplace=True)\n",
    "        \n",
    "for i in range(217):\n",
    "    if train.P_id.iloc[c_id[i]] < 2:\n",
    "        train.CryoSleep.replace(np.nan, train.CryoSleep.iloc[c_id[i]+1], inplace=True)\n",
    "    else:\n",
    "        train.CryoSleep.replace(np.nan, train.CryoSleep.iloc[c_id[i]-1], inplace=True)\n",
    "        \n",
    "for i in range(203):\n",
    "    if train.P_id.iloc[v_id[i]] < 2:\n",
    "        train.VIP.replace(np.nan, train.VIP.iloc[v_id[i]+1], inplace=True)\n",
    "    else:\n",
    "        train.VIP.replace(np.nan, train.VIP.iloc[v_id[i]-1], inplace=True)\n",
    "        \n",
    "# Test-set\n",
    "h_id = test[test.HomePlanet.isna()].index\n",
    "d_id = test[test.Destination.isna()].index\n",
    "c_id = test[test.CryoSleep.isna()].index\n",
    "v_id = test[test.VIP.isna()].index\n",
    "for i in range(87):\n",
    "    if test.P_id.iloc[h_id[i]] < 2:\n",
    "        test.HomePlanet.replace(np.nan, test.HomePlanet.iloc[h_id[i]+1], inplace=True)\n",
    "    else:\n",
    "        test.HomePlanet.replace(np.nan, test.HomePlanet.iloc[h_id[i]-1], inplace=True)\n",
    "        \n",
    "for i in range(92):\n",
    "    if test.P_id.iloc[d_id[i]] < 2:\n",
    "        test.Destination.replace(np.nan, test.Destination.iloc[d_id[i]+1], inplace=True)\n",
    "    else:\n",
    "        test.Destination.replace(np.nan, test.Destination.iloc[d_id[i]-1], inplace=True)   \n",
    "        \n",
    "for i in range(93):\n",
    "    if test.P_id.iloc[c_id[i]] < 2:\n",
    "        test.CryoSleep.replace(np.nan, test.CryoSleep.iloc[c_id[i]+1], inplace=True)\n",
    "    else:\n",
    "        test.CryoSleep.replace(np.nan, test.CryoSleep.iloc[c_id[i]-1], inplace=True)\n",
    "        \n",
    "for i in range(93):\n",
    "    if test.P_id.iloc[v_id[i]] < 2:\n",
    "        test.VIP.replace(np.nan, test.VIP.iloc[v_id[i]+1], inplace=True)\n",
    "    else:\n",
    "        test.VIP.replace(np.nan, test.VIP.iloc[v_id[i]-1], inplace=True)"
   ]
  },
  {
   "cell_type": "markdown",
   "id": "ce54cab3",
   "metadata": {},
   "source": [
    "### Age"
   ]
  },
  {
   "cell_type": "code",
   "execution_count": 193,
   "id": "63224eda",
   "metadata": {},
   "outputs": [],
   "source": [
    "train.Age.replace(np.nan, 27.0, inplace=True)\n",
    "test.Age.replace(np.nan, 27.0, inplace=True)"
   ]
  },
  {
   "cell_type": "markdown",
   "id": "91603ef1",
   "metadata": {},
   "source": [
    "## Quantify Data"
   ]
  },
  {
   "cell_type": "code",
   "execution_count": 194,
   "id": "8e8c9fe9",
   "metadata": {},
   "outputs": [],
   "source": [
    "# Train-set\n",
    "train.CryoSleep = train.CryoSleep.apply(lambda x: 1 if x == True else 0)\n",
    "train.VIP = train.VIP.apply(lambda x: 1 if x == True else 0)\n",
    "train.Transported = train.Transported.apply(lambda x: 1 if x == True else 0)\n",
    "\n",
    "# Test-set\n",
    "test.CryoSleep = test.CryoSleep.apply(lambda x: 1 if x == True else 0)\n",
    "test.VIP = test.VIP.apply(lambda x: 1 if x == True else 0)"
   ]
  },
  {
   "cell_type": "markdown",
   "id": "4ee1bce9",
   "metadata": {},
   "source": [
    "## Create Model\n",
    "### Split Data"
   ]
  },
  {
   "cell_type": "code",
   "execution_count": 198,
   "id": "d105d039",
   "metadata": {},
   "outputs": [],
   "source": [
    "X = train.drop('Transported', axis=1)\n",
    "y = train.Transported\n",
    "\n",
    "X_tr, X_val, y_tr, y_val = train_test_split(X, y, test_size=0.2)"
   ]
  },
  {
   "cell_type": "code",
   "execution_count": 199,
   "id": "4d16237e",
   "metadata": {},
   "outputs": [
    {
     "name": "stdout",
     "output_type": "stream",
     "text": [
      "0.7907679033649698\n",
      "0.7809085681426107\n"
     ]
    }
   ],
   "source": [
    "ctb = CatBoostClassifier(iterations=5, loss_function='Logloss', cat_features=[0,2,12,13,14], silent=True).fit(X_tr, y_tr)\n",
    "val = ctb.score(X_val, y_val)\n",
    "tr = ctb.score(X_tr, y_tr)\n",
    "print(tr)\n",
    "print(val)"
   ]
  }
 ],
 "metadata": {
  "kernelspec": {
   "display_name": "Python 3 (ipykernel)",
   "language": "python",
   "name": "python3"
  },
  "language_info": {
   "codemirror_mode": {
    "name": "ipython",
    "version": 3
   },
   "file_extension": ".py",
   "mimetype": "text/x-python",
   "name": "python",
   "nbconvert_exporter": "python",
   "pygments_lexer": "ipython3",
   "version": "3.11.5"
  }
 },
 "nbformat": 4,
 "nbformat_minor": 5
}
